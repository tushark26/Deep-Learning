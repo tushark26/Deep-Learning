{
  "cells": [
    {
      "cell_type": "markdown",
      "metadata": {
        "id": "view-in-github",
        "colab_type": "text"
      },
      "source": [
        "<a href=\"https://colab.research.google.com/github/tushark26/Deep-Learning/blob/main/tools_numpy.ipynb\" target=\"_parent\"><img src=\"https://colab.research.google.com/assets/colab-badge.svg\" alt=\"Open In Colab\"/></a>"
      ]
    },
    {
      "cell_type": "markdown",
      "metadata": {
        "id": "lJmcaO_-09hG"
      },
      "source": [
        "**Tools - NumPy**\n",
        "\n",
        "*NumPy is the fundamental library for scientific computing with Python. NumPy is centered around a powerful N-dimensional array object, and it also contains useful linear algebra, Fourier transform, and random number functions.*"
      ]
    },
    {
      "cell_type": "markdown",
      "metadata": {
        "id": "vDK0QdTT09hh"
      },
      "source": [
        "<table align=\"left\">\n",
        "  <td>\n",
        "    <a href=\"https://colab.research.google.com/github/ageron/handson-ml3/blob/main/tools_numpy.ipynb\" target=\"_parent\"><img src=\"https://colab.research.google.com/assets/colab-badge.svg\" alt=\"Open In Colab\"/></a>\n",
        "  </td>\n",
        "  <td>\n",
        "    <a target=\"_blank\" href=\"https://kaggle.com/kernels/welcome?src=https://github.com/ageron/handson-ml3/blob/main/tools_numpy.ipynb\"><img src=\"https://kaggle.com/static/images/open-in-kaggle.svg\" /></a>\n",
        "  </td>\n",
        "</table>"
      ]
    },
    {
      "cell_type": "markdown",
      "metadata": {
        "id": "wLBpF_tw09hv"
      },
      "source": [
        "# Creating Arrays"
      ]
    },
    {
      "cell_type": "markdown",
      "metadata": {
        "id": "KaqD04Ek09hy"
      },
      "source": [
        "Now let's import `numpy`. Most people import it as `np`:"
      ]
    },
    {
      "cell_type": "code",
      "execution_count": 1,
      "metadata": {
        "id": "7Q4sdimW09h0"
      },
      "outputs": [],
      "source": [
        "import numpy as np"
      ]
    },
    {
      "cell_type": "markdown",
      "metadata": {
        "id": "WVKUZ2j609h6"
      },
      "source": [
        "## `np.zeros`"
      ]
    },
    {
      "cell_type": "markdown",
      "metadata": {
        "id": "SLaop-fC09h8"
      },
      "source": [
        "The `zeros` function creates an array containing any number of zeros:"
      ]
    },
    {
      "cell_type": "code",
      "execution_count": 2,
      "metadata": {
        "id": "poxbr7v809iO",
        "outputId": "6d2ad9b0-c188-45a9-d9c1-2e28fee864c1",
        "colab": {
          "base_uri": "https://localhost:8080/"
        }
      },
      "outputs": [
        {
          "output_type": "execute_result",
          "data": {
            "text/plain": [
              "array([0., 0., 0., 0., 0.])"
            ]
          },
          "metadata": {},
          "execution_count": 2
        }
      ],
      "source": [
        "np.zeros(5)"
      ]
    },
    {
      "cell_type": "markdown",
      "metadata": {
        "id": "Y83gEMjR09iV"
      },
      "source": [
        "It's just as easy to create a 2D array (ie. a matrix) by providing a tuple with the desired number of rows and columns. For example, here's a 3x4 matrix:"
      ]
    },
    {
      "cell_type": "code",
      "execution_count": 3,
      "metadata": {
        "id": "119VTvCu09iZ",
        "outputId": "c0d3b461-8352-4cfa-f165-7996aa7616c2",
        "colab": {
          "base_uri": "https://localhost:8080/"
        }
      },
      "outputs": [
        {
          "output_type": "execute_result",
          "data": {
            "text/plain": [
              "array([[0., 0., 0., 0.],\n",
              "       [0., 0., 0., 0.],\n",
              "       [0., 0., 0., 0.]])"
            ]
          },
          "metadata": {},
          "execution_count": 3
        }
      ],
      "source": [
        "np.zeros((3,4))"
      ]
    },
    {
      "cell_type": "markdown",
      "metadata": {
        "id": "xokDiStS09id"
      },
      "source": [
        "## Some vocabulary\n",
        "\n",
        "* In NumPy, each dimension is called an **axis**.\n",
        "* The number of axes is called the **rank**.\n",
        "    * For example, the above 3x4 matrix is an array of rank 2 (it is 2-dimensional).\n",
        "    * The first axis has length 3, the second has length 4.\n",
        "* An array's list of axis lengths is called the **shape** of the array.\n",
        "    * For example, the above matrix's shape is `(3, 4)`.\n",
        "    * The rank is equal to the shape's length.\n",
        "* The **size** of an array is the total number of elements, which is the product of all axis lengths (eg. 3*4=12)"
      ]
    },
    {
      "cell_type": "code",
      "execution_count": 4,
      "metadata": {
        "id": "oiaFkXcv09ii",
        "outputId": "4fbc8617-573e-4c90-90d7-b4a4585aa851",
        "colab": {
          "base_uri": "https://localhost:8080/"
        }
      },
      "outputs": [
        {
          "output_type": "execute_result",
          "data": {
            "text/plain": [
              "array([[0., 0., 0., 0.],\n",
              "       [0., 0., 0., 0.],\n",
              "       [0., 0., 0., 0.]])"
            ]
          },
          "metadata": {},
          "execution_count": 4
        }
      ],
      "source": [
        "a = np.zeros((3,4))\n",
        "a"
      ]
    },
    {
      "cell_type": "code",
      "execution_count": 5,
      "metadata": {
        "id": "R_x9Erd009il",
        "outputId": "bc3eda9e-3d90-444c-b61b-790cbe47d446",
        "colab": {
          "base_uri": "https://localhost:8080/"
        }
      },
      "outputs": [
        {
          "output_type": "execute_result",
          "data": {
            "text/plain": [
              "(3, 4)"
            ]
          },
          "metadata": {},
          "execution_count": 5
        }
      ],
      "source": [
        "a.shape"
      ]
    },
    {
      "cell_type": "code",
      "execution_count": 6,
      "metadata": {
        "id": "WhSxwiq909io",
        "outputId": "65dfbd36-79e2-45a7-aa48-426cc4116abc",
        "colab": {
          "base_uri": "https://localhost:8080/"
        }
      },
      "outputs": [
        {
          "output_type": "execute_result",
          "data": {
            "text/plain": [
              "2"
            ]
          },
          "metadata": {},
          "execution_count": 6
        }
      ],
      "source": [
        "a.ndim  # equal to len(a.shape)"
      ]
    },
    {
      "cell_type": "code",
      "execution_count": 7,
      "metadata": {
        "id": "pCztdcq909ir",
        "outputId": "0553f4f6-bde1-4a95-cc6e-8ee858d9afc1",
        "colab": {
          "base_uri": "https://localhost:8080/"
        }
      },
      "outputs": [
        {
          "output_type": "execute_result",
          "data": {
            "text/plain": [
              "12"
            ]
          },
          "metadata": {},
          "execution_count": 7
        }
      ],
      "source": [
        "a.size"
      ]
    },
    {
      "cell_type": "markdown",
      "metadata": {
        "id": "sgPCcRoa09ix"
      },
      "source": [
        "## N-dimensional arrays\n",
        "You can also create an N-dimensional array of arbitrary rank. For example, here's a 3D array (rank=3), with shape `(2,3,4)`:"
      ]
    },
    {
      "cell_type": "code",
      "execution_count": 8,
      "metadata": {
        "id": "JymdXYbP09i0",
        "outputId": "cab20c0e-26c3-46b7-8306-8047ec3cd62f",
        "colab": {
          "base_uri": "https://localhost:8080/"
        }
      },
      "outputs": [
        {
          "output_type": "execute_result",
          "data": {
            "text/plain": [
              "array([[[0., 0., 0., 0.],\n",
              "        [0., 0., 0., 0.],\n",
              "        [0., 0., 0., 0.]],\n",
              "\n",
              "       [[0., 0., 0., 0.],\n",
              "        [0., 0., 0., 0.],\n",
              "        [0., 0., 0., 0.]]])"
            ]
          },
          "metadata": {},
          "execution_count": 8
        }
      ],
      "source": [
        "np.zeros((2,3,4))"
      ]
    },
    {
      "cell_type": "markdown",
      "metadata": {
        "id": "C1GvMBDw09jD"
      },
      "source": [
        "## Array type\n",
        "NumPy arrays have the type `ndarray`s:"
      ]
    },
    {
      "cell_type": "code",
      "execution_count": 9,
      "metadata": {
        "id": "pz0QLLkd09jH",
        "outputId": "67d25536-5714-4eff-e578-a222bf56d31c",
        "colab": {
          "base_uri": "https://localhost:8080/"
        }
      },
      "outputs": [
        {
          "output_type": "execute_result",
          "data": {
            "text/plain": [
              "numpy.ndarray"
            ]
          },
          "metadata": {},
          "execution_count": 9
        }
      ],
      "source": [
        "type(np.zeros((3,4)))"
      ]
    },
    {
      "cell_type": "markdown",
      "metadata": {
        "id": "qtTca6qF09jJ"
      },
      "source": [
        "## `np.ones`\n",
        "Many other NumPy functions create `ndarrays`.\n",
        "\n",
        "Here's a 3x4 matrix full of ones:"
      ]
    },
    {
      "cell_type": "code",
      "execution_count": 10,
      "metadata": {
        "id": "gFpkBxnj09jN",
        "outputId": "d44e4815-826f-4531-b939-df41618b1929",
        "colab": {
          "base_uri": "https://localhost:8080/"
        }
      },
      "outputs": [
        {
          "output_type": "execute_result",
          "data": {
            "text/plain": [
              "array([[1., 1., 1., 1.],\n",
              "       [1., 1., 1., 1.],\n",
              "       [1., 1., 1., 1.]])"
            ]
          },
          "metadata": {},
          "execution_count": 10
        }
      ],
      "source": [
        "np.ones((3,4))"
      ]
    },
    {
      "cell_type": "markdown",
      "metadata": {
        "id": "OUsSSKhM09jP"
      },
      "source": [
        "## `np.full`\n",
        "Creates an array of the given shape initialized with the given value. Here's a 3x4 matrix full of `π`."
      ]
    },
    {
      "cell_type": "code",
      "execution_count": 11,
      "metadata": {
        "id": "g-2g-YZB09jR",
        "outputId": "5f99c9f9-92b3-42c6-cef4-1229d64c8999",
        "colab": {
          "base_uri": "https://localhost:8080/"
        }
      },
      "outputs": [
        {
          "output_type": "execute_result",
          "data": {
            "text/plain": [
              "array([[3.14159265, 3.14159265, 3.14159265, 3.14159265],\n",
              "       [3.14159265, 3.14159265, 3.14159265, 3.14159265],\n",
              "       [3.14159265, 3.14159265, 3.14159265, 3.14159265]])"
            ]
          },
          "metadata": {},
          "execution_count": 11
        }
      ],
      "source": [
        "np.full((3,4), np.pi)"
      ]
    },
    {
      "cell_type": "markdown",
      "metadata": {
        "id": "rv7o2B0_09jX"
      },
      "source": [
        "## `np.empty`\n",
        "An uninitialized 2x3 array (its content is not predictable, as it is whatever is in memory at that point):"
      ]
    },
    {
      "cell_type": "code",
      "execution_count": 12,
      "metadata": {
        "scrolled": true,
        "id": "HOxNS7Ik09jZ",
        "outputId": "3732f835-901f-4b7e-deeb-c154e5f545fa",
        "colab": {
          "base_uri": "https://localhost:8080/"
        }
      },
      "outputs": [
        {
          "output_type": "execute_result",
          "data": {
            "text/plain": [
              "array([[4.64352478e-310, 0.00000000e+000, 0.00000000e+000],\n",
              "       [0.00000000e+000, 0.00000000e+000, 0.00000000e+000]])"
            ]
          },
          "metadata": {},
          "execution_count": 12
        }
      ],
      "source": [
        "np.empty((2,3))"
      ]
    },
    {
      "cell_type": "markdown",
      "metadata": {
        "id": "Q3DkrLgt09ja"
      },
      "source": [
        "## np.array\n",
        "Of course you can initialize an `ndarray` using a regular python array. Just call the `array` function:"
      ]
    },
    {
      "cell_type": "code",
      "execution_count": 13,
      "metadata": {
        "id": "hmtnCPEj09jc",
        "outputId": "cd78e652-4986-47eb-c96f-bbe70222fff5",
        "colab": {
          "base_uri": "https://localhost:8080/"
        }
      },
      "outputs": [
        {
          "output_type": "execute_result",
          "data": {
            "text/plain": [
              "array([[ 1,  2,  3,  4],\n",
              "       [10, 20, 30, 40]])"
            ]
          },
          "metadata": {},
          "execution_count": 13
        }
      ],
      "source": [
        "np.array([[1,2,3,4], [10, 20, 30, 40]])"
      ]
    },
    {
      "cell_type": "markdown",
      "metadata": {
        "id": "YD2LBn7209jf"
      },
      "source": [
        "## `np.arange`\n",
        "You can create an `ndarray` using NumPy's `arange` function, which is similar to python's built-in `range` function:"
      ]
    },
    {
      "cell_type": "code",
      "execution_count": 14,
      "metadata": {
        "scrolled": true,
        "id": "_MzlJvVG09jh",
        "outputId": "d532f502-0607-4f82-ed0f-27cac9790675",
        "colab": {
          "base_uri": "https://localhost:8080/"
        }
      },
      "outputs": [
        {
          "output_type": "execute_result",
          "data": {
            "text/plain": [
              "array([1, 2, 3, 4])"
            ]
          },
          "metadata": {},
          "execution_count": 14
        }
      ],
      "source": [
        "np.arange(1, 5)"
      ]
    },
    {
      "cell_type": "markdown",
      "metadata": {
        "id": "J5ktHV_y09jl"
      },
      "source": [
        "It also works with floats:"
      ]
    },
    {
      "cell_type": "code",
      "execution_count": 15,
      "metadata": {
        "id": "m9Ihev4_09jm",
        "outputId": "991993cc-f91e-415e-db8c-e6f3787b7037",
        "colab": {
          "base_uri": "https://localhost:8080/"
        }
      },
      "outputs": [
        {
          "output_type": "execute_result",
          "data": {
            "text/plain": [
              "array([1., 2., 3., 4.])"
            ]
          },
          "metadata": {},
          "execution_count": 15
        }
      ],
      "source": [
        "np.arange(1.0, 5.0)"
      ]
    },
    {
      "cell_type": "markdown",
      "metadata": {
        "id": "14cnKDeu09jo"
      },
      "source": [
        "Of course you can provide a step parameter:"
      ]
    },
    {
      "cell_type": "code",
      "execution_count": 16,
      "metadata": {
        "id": "5y7sOCGx09jp",
        "outputId": "bdc9d71c-f561-42f0-ef4f-0a44f2997a74",
        "colab": {
          "base_uri": "https://localhost:8080/"
        }
      },
      "outputs": [
        {
          "output_type": "execute_result",
          "data": {
            "text/plain": [
              "array([1. , 1.5, 2. , 2.5, 3. , 3.5, 4. , 4.5])"
            ]
          },
          "metadata": {},
          "execution_count": 16
        }
      ],
      "source": [
        "np.arange(1, 5, 0.5)"
      ]
    },
    {
      "cell_type": "markdown",
      "metadata": {
        "id": "lgetCTJY09js"
      },
      "source": [
        "However, when dealing with floats, the exact number of elements in the array is not always predictible. For example, consider this:"
      ]
    },
    {
      "cell_type": "code",
      "execution_count": 17,
      "metadata": {
        "id": "d1RKJF6q09jt",
        "outputId": "869e8eee-6ee0-4c95-ca7e-25dcd231212b",
        "colab": {
          "base_uri": "https://localhost:8080/"
        }
      },
      "outputs": [
        {
          "output_type": "stream",
          "name": "stdout",
          "text": [
            "[0.         0.33333333 0.66666667 1.         1.33333333 1.66666667]\n",
            "[0.         0.33333333 0.66666667 1.         1.33333333 1.66666667]\n",
            "[0.         0.33333333 0.66666667 1.         1.33333334]\n"
          ]
        }
      ],
      "source": [
        "print(np.arange(0, 5/3, 1/3)) # depending on floating point errors, the max value is 4/3 or 5/3.\n",
        "print(np.arange(0, 5/3, 0.333333333))\n",
        "print(np.arange(0, 5/3, 0.333333334))\n"
      ]
    },
    {
      "cell_type": "markdown",
      "metadata": {
        "id": "kD1XQm2409jx"
      },
      "source": [
        "## `np.linspace`\n",
        "For this reason, it is generally preferable to use the `linspace` function instead of `arange` when working with floats. The `linspace` function returns an array containing a specific number of points evenly distributed between two values (note that the maximum value is *included*, contrary to `arange`):"
      ]
    },
    {
      "cell_type": "code",
      "execution_count": 18,
      "metadata": {
        "id": "bwTRBRSn09j-",
        "outputId": "0fcd21ec-e305-478d-9fa2-fcf702d0dcd4",
        "colab": {
          "base_uri": "https://localhost:8080/"
        }
      },
      "outputs": [
        {
          "output_type": "stream",
          "name": "stdout",
          "text": [
            "[0.         0.33333333 0.66666667 1.         1.33333333 1.66666667]\n"
          ]
        }
      ],
      "source": [
        "print(np.linspace(0, 5/3, 6))"
      ]
    },
    {
      "cell_type": "markdown",
      "metadata": {
        "id": "m1ZF5CBI09j_"
      },
      "source": [
        "## `np.rand` and `np.randn`\n",
        "A number of functions are available in NumPy's `random` module to create `ndarray`s initialized with random values.\n",
        "For example, here is a 3x4 matrix initialized with random floats between 0 and 1 (uniform distribution):"
      ]
    },
    {
      "cell_type": "code",
      "execution_count": 19,
      "metadata": {
        "id": "qsK7BkaB09kA",
        "outputId": "a4e6593f-3204-4188-c50f-1ee880631458",
        "colab": {
          "base_uri": "https://localhost:8080/"
        }
      },
      "outputs": [
        {
          "output_type": "execute_result",
          "data": {
            "text/plain": [
              "array([[0.85513542, 0.57584484, 0.17326112, 0.65888924],\n",
              "       [0.69487054, 0.11580996, 0.62209068, 0.54877464],\n",
              "       [0.65697931, 0.71549477, 0.20843028, 0.06480702]])"
            ]
          },
          "metadata": {},
          "execution_count": 19
        }
      ],
      "source": [
        "np.random.rand(3,4)"
      ]
    },
    {
      "cell_type": "markdown",
      "metadata": {
        "id": "lSkzlFB-09kC"
      },
      "source": [
        "Here's a 3x4 matrix containing random floats sampled from a univariate [normal distribution](https://en.wikipedia.org/wiki/Normal_distribution) (Gaussian distribution) of mean 0 and variance 1:"
      ]
    },
    {
      "cell_type": "code",
      "execution_count": 20,
      "metadata": {
        "id": "eRZpOETx09kD",
        "outputId": "9bb5c2fc-83cc-4e16-b646-c0090b783b10",
        "colab": {
          "base_uri": "https://localhost:8080/"
        }
      },
      "outputs": [
        {
          "output_type": "execute_result",
          "data": {
            "text/plain": [
              "array([[ 1.95402598,  0.6699315 ,  0.41611339,  0.83046158],\n",
              "       [-0.89086894, -0.07449621,  1.30234869,  0.21792663],\n",
              "       [-0.19678883,  1.32539917,  0.17238415,  0.59390589]])"
            ]
          },
          "metadata": {},
          "execution_count": 20
        }
      ],
      "source": [
        "np.random.randn(3,4)"
      ]
    },
    {
      "cell_type": "markdown",
      "metadata": {
        "id": "LWHqHN5L09kH"
      },
      "source": [
        "To give you a feel of what these distributions look like, let's use matplotlib (see the [matplotlib tutorial](tools_matplotlib.ipynb) for more details):"
      ]
    },
    {
      "cell_type": "code",
      "execution_count": 21,
      "metadata": {
        "id": "5Hk4ehmV09kJ"
      },
      "outputs": [],
      "source": [
        "import matplotlib.pyplot as plt"
      ]
    },
    {
      "cell_type": "code",
      "execution_count": 22,
      "metadata": {
        "id": "MP-U10ee09kK",
        "outputId": "92f5ce6e-26e0-484a-efd8-31700da8428b",
        "colab": {
          "base_uri": "https://localhost:8080/",
          "height": 295
        }
      },
      "outputs": [
        {
          "output_type": "display_data",
          "data": {
            "text/plain": [
              "<Figure size 432x288 with 1 Axes>"
            ],
            "image/png": "[encoded data removed]"
          },
          "metadata": {
            "needs_background": "light"
          }
        }
      ],
      "source": [
        "plt.hist(np.random.rand(100000), density=True, bins=100, histtype=\"step\", color=\"blue\", label=\"rand\")\n",
        "plt.hist(np.random.randn(100000), density=True, bins=100, histtype=\"step\", color=\"red\", label=\"randn\")\n",
        "plt.axis([-2.5, 2.5, 0, 1.1])\n",
        "plt.legend(loc = \"upper left\")\n",
        "plt.title(\"Random distributions\")\n",
        "plt.xlabel(\"Value\")\n",
        "plt.ylabel(\"Density\")\n",
        "plt.show()"
      ]
    },
    {
      "cell_type": "markdown",
      "metadata": {
        "id": "s3cbhmg209kM"
      },
      "source": [
        "## np.fromfunction\n",
        "You can also initialize an `ndarray` using a function:"
      ]
    },
    {
      "cell_type": "code",
      "execution_count": 23,
      "metadata": {
        "id": "VIgXI2Em09kN",
        "outputId": "7bbea522-4d34-4350-f612-b99210347a55",
        "colab": {
          "base_uri": "https://localhost:8080/"
        }
      },
      "outputs": [
        {
          "output_type": "execute_result",
          "data": {
            "text/plain": [
              "array([[[  0.,   1.,   2.,   3.,   4.,   5.,   6.,   7.,   8.,   9.],\n",
              "        [ 10.,  11.,  12.,  13.,  14.,  15.,  16.,  17.,  18.,  19.]],\n",
              "\n",
              "       [[100., 101., 102., 103., 104., 105., 106., 107., 108., 109.],\n",
              "        [110., 111., 112., 113., 114., 115., 116., 117., 118., 119.]],\n",
              "\n",
              "       [[200., 201., 202., 203., 204., 205., 206., 207., 208., 209.],\n",
              "        [210., 211., 212., 213., 214., 215., 216., 217., 218., 219.]]])"
            ]
          },
          "metadata": {},
          "execution_count": 23
        }
      ],
      "source": [
        "def my_function(z, y, x):\n",
        "    return x + 10 * y + 100 * z\n",
        "\n",
        "np.fromfunction(my_function, (3, 2, 10))"
      ]
    },
    {
      "cell_type": "markdown",
      "metadata": {
        "id": "1ygqKTra09kP"
      },
      "source": [
        "NumPy first creates three `ndarrays` (one per dimension), each of shape `(3, 2, 10)`. Each array has values equal to the coordinate along a specific axis. For example, all elements in the `z` array are equal to their z-coordinate:\n",
        "\n",
        "    [[[ 0.  0.  0.  0.  0.  0.  0.  0.  0.  0.]\n",
        "      [ 0.  0.  0.  0.  0.  0.  0.  0.  0.  0.]]\n",
        "    \n",
        "     [[ 1.  1.  1.  1.  1.  1.  1.  1.  1.  1.]\n",
        "      [ 1.  1.  1.  1.  1.  1.  1.  1.  1.  1.]]\n",
        "    \n",
        "     [[ 2.  2.  2.  2.  2.  2.  2.  2.  2.  2.]\n",
        "      [ 2.  2.  2.  2.  2.  2.  2.  2.  2.  2.]]]\n",
        "\n",
        "So the terms `x`, `y` and `z` in the expression `x + 10 * y + 100 * z` above are in fact `ndarray`s (we will discuss arithmetic operations on arrays below).  The point is that the function `my_function` is only called *once*, instead of once per element. This makes initialization very efficient."
      ]
    },
    {
      "cell_type": "markdown",
      "metadata": {
        "id": "9hi59rWL09kR"
      },
      "source": [
        "# Array data\n",
        "## `dtype`\n",
        "NumPy's `ndarray`s are also efficient in part because all their elements must have the same type (usually numbers).\n",
        "You can check what the data type is by looking at the `dtype` attribute:"
      ]
    },
    {
      "cell_type": "code",
      "execution_count": 24,
      "metadata": {
        "scrolled": true,
        "id": "jmBselwq09kS",
        "outputId": "36f99755-0a07-4e47-decd-a88b0ac649e6",
        "colab": {
          "base_uri": "https://localhost:8080/"
        }
      },
      "outputs": [
        {
          "output_type": "stream",
          "name": "stdout",
          "text": [
            "int64 [1 2 3 4]\n"
          ]
        }
      ],
      "source": [
        "c = np.arange(1, 5)\n",
        "print(c.dtype, c)"
      ]
    },
    {
      "cell_type": "code",
      "execution_count": 25,
      "metadata": {
        "id": "LaZyJJbb09kT",
        "outputId": "9b745fd3-bf3e-401e-dd9d-5b12f301a068",
        "colab": {
          "base_uri": "https://localhost:8080/"
        }
      },
      "outputs": [
        {
          "output_type": "stream",
          "name": "stdout",
          "text": [
            "float64 [1. 2. 3. 4.]\n"
          ]
        }
      ],
      "source": [
        "c = np.arange(1.0, 5.0)\n",
        "print(c.dtype, c)"
      ]
    },
    {
      "cell_type": "markdown",
      "metadata": {
        "id": "lTzGJsBE09kX"
      },
      "source": [
        "Instead of letting NumPy guess what data type to use, you can set it explicitly when creating an array by setting the `dtype` parameter:"
      ]
    },
    {
      "cell_type": "code",
      "execution_count": 26,
      "metadata": {
        "id": "mWTOkbmP09kZ",
        "outputId": "3105c53a-538d-462d-d233-4304cf3ab525",
        "colab": {
          "base_uri": "https://localhost:8080/"
        }
      },
      "outputs": [
        {
          "output_type": "stream",
          "name": "stdout",
          "text": [
            "complex64 [1.+0.j 2.+0.j 3.+0.j 4.+0.j]\n"
          ]
        }
      ],
      "source": [
        "d = np.arange(1, 5, dtype=np.complex64)\n",
        "print(d.dtype, d)"
      ]
    },
    {
      "cell_type": "markdown",
      "metadata": {
        "id": "uWIYkWbz09kb"
      },
      "source": [
        "Available data types include `int8`, `int16`, `int32`, `int64`, `uint8`|`16`|`32`|`64`, `float16`|`32`|`64` and `complex64`|`128`. Check out [the documentation](http://docs.scipy.org/doc/numpy-1.10.1/user/basics.types.html) for the full list.\n",
        "\n",
        "## `itemsize`\n",
        "The `itemsize` attribute returns the size (in bytes) of each item:"
      ]
    },
    {
      "cell_type": "code",
      "execution_count": 27,
      "metadata": {
        "id": "vy9u5ej909kc",
        "outputId": "40a15b5c-eb34-4da1-c9b8-02d87bda8570",
        "colab": {
          "base_uri": "https://localhost:8080/"
        }
      },
      "outputs": [
        {
          "output_type": "execute_result",
          "data": {
            "text/plain": [
              "8"
            ]
          },
          "metadata": {},
          "execution_count": 27
        }
      ],
      "source": [
        "e = np.arange(1, 5, dtype=np.complex64)\n",
        "e.itemsize"
      ]
    },
    {
      "cell_type": "markdown",
      "metadata": {
        "id": "ebZTmmmu09kd"
      },
      "source": [
        "## `data` buffer\n",
        "An array's data is actually stored in memory as a flat (one dimensional) byte buffer. It is available *via* the `data` attribute (you will rarely need it, though)."
      ]
    },
    {
      "cell_type": "code",
      "execution_count": 28,
      "metadata": {
        "id": "GgMVWVy109kf",
        "outputId": "e7c00b4c-a00a-4c7d-b2db-8e78c283d3f8",
        "colab": {
          "base_uri": "https://localhost:8080/"
        }
      },
      "outputs": [
        {
          "output_type": "execute_result",
          "data": {
            "text/plain": [
              "<memory at 0x7fe21a02c210>"
            ]
          },
          "metadata": {},
          "execution_count": 28
        }
      ],
      "source": [
        "f = np.array([[1,2],[1000, 2000]], dtype=np.int32)\n",
        "f.data"
      ]
    },
    {
      "cell_type": "markdown",
      "metadata": {
        "id": "pAvKJWEv09kh"
      },
      "source": [
        "In python 2, `f.data` is a buffer. In python 3, it is a memoryview."
      ]
    },
    {
      "cell_type": "code",
      "execution_count": 29,
      "metadata": {
        "id": "Om3Vwypj09ki",
        "outputId": "8688a301-e894-4c6b-aed1-988765d4c3c1",
        "colab": {
          "base_uri": "https://localhost:8080/"
        }
      },
      "outputs": [
        {
          "output_type": "execute_result",
          "data": {
            "text/plain": [
              "b'\\x01\\x00\\x00\\x00\\x02\\x00\\x00\\x00\\xe8\\x03\\x00\\x00\\xd0\\x07\\x00\\x00'"
            ]
          },
          "metadata": {},
          "execution_count": 29
        }
      ],
      "source": [
        "if (hasattr(f.data, \"tobytes\")):\n",
        "    data_bytes = f.data.tobytes() # python 3\n",
        "else:\n",
        "    data_bytes = memoryview(f.data).tobytes() # python 2\n",
        "\n",
        "data_bytes"
      ]
    },
    {
      "cell_type": "markdown",
      "metadata": {
        "id": "6R3VMcO009kk"
      },
      "source": [
        "Several `ndarrays` can share the same data buffer, meaning that modifying one will also modify the others. We will see an example in a minute."
      ]
    },
    {
      "cell_type": "markdown",
      "metadata": {
        "id": "ezaqv8cp09km"
      },
      "source": [
        "# Reshaping an array\n",
        "## In place\n",
        "Changing the shape of an `ndarray` is as simple as setting its `shape` attribute. However, the array's size must remain the same."
      ]
    },
    {
      "cell_type": "code",
      "execution_count": 30,
      "metadata": {
        "id": "4lkWPiq509kp",
        "outputId": "59ba391c-33a2-49aa-ecc0-42f55d98c7f7",
        "colab": {
          "base_uri": "https://localhost:8080/"
        }
      },
      "outputs": [
        {
          "output_type": "stream",
          "name": "stdout",
          "text": [
            "[ 0  1  2  3  4  5  6  7  8  9 10 11 12 13 14 15 16 17 18 19 20 21 22 23]\n",
            "Rank: 1\n"
          ]
        }
      ],
      "source": [
        "g = np.arange(24)\n",
        "print(g)\n",
        "print(\"Rank:\", g.ndim)"
      ]
    },
    {
      "cell_type": "code",
      "execution_count": 31,
      "metadata": {
        "id": "aUKoYClD09kr",
        "outputId": "6defa6ee-f58c-4a0b-8d55-320e6280f59a",
        "colab": {
          "base_uri": "https://localhost:8080/"
        }
      },
      "outputs": [
        {
          "output_type": "stream",
          "name": "stdout",
          "text": [
            "[[ 0  1  2  3]\n",
            " [ 4  5  6  7]\n",
            " [ 8  9 10 11]\n",
            " [12 13 14 15]\n",
            " [16 17 18 19]\n",
            " [20 21 22 23]]\n",
            "Rank: 2\n"
          ]
        }
      ],
      "source": [
        "g.shape = (6, 4)\n",
        "print(g)\n",
        "print(\"Rank:\", g.ndim)"
      ]
    },
    {
      "cell_type": "code",
      "execution_count": 32,
      "metadata": {
        "scrolled": true,
        "id": "hRXgkjxE09kt",
        "outputId": "bf56a4fb-cff5-4ab5-a5bc-1c59308c7046",
        "colab": {
          "base_uri": "https://localhost:8080/"
        }
      },
      "outputs": [
        {
          "output_type": "stream",
          "name": "stdout",
          "text": [
            "[[[ 0  1  2  3]\n",
            "  [ 4  5  6  7]\n",
            "  [ 8  9 10 11]]\n",
            "\n",
            " [[12 13 14 15]\n",
            "  [16 17 18 19]\n",
            "  [20 21 22 23]]]\n",
            "Rank: 3\n"
          ]
        }
      ],
      "source": [
        "g.shape = (2, 3, 4)\n",
        "print(g)\n",
        "print(\"Rank:\", g.ndim)"
      ]
    },
    {
      "cell_type": "markdown",
      "metadata": {
        "id": "S_DNxf6n09kv"
      },
      "source": [
        "## `reshape`\n",
        "The `reshape` function returns a new `ndarray` object pointing at the *same* data. This means that modifying one array will also modify the other."
      ]
    },
    {
      "cell_type": "code",
      "execution_count": 33,
      "metadata": {
        "scrolled": true,
        "id": "g6U3G2Ly09kw",
        "outputId": "8b976498-e96e-4178-836b-21a7f28f14ea",
        "colab": {
          "base_uri": "https://localhost:8080/"
        }
      },
      "outputs": [
        {
          "output_type": "stream",
          "name": "stdout",
          "text": [
            "[[ 0  1  2  3  4  5]\n",
            " [ 6  7  8  9 10 11]\n",
            " [12 13 14 15 16 17]\n",
            " [18 19 20 21 22 23]]\n",
            "Rank: 2\n"
          ]
        }
      ],
      "source": [
        "g2 = g.reshape(4,6)\n",
        "print(g2)\n",
        "print(\"Rank:\", g2.ndim)"
      ]
    },
    {
      "cell_type": "markdown",
      "metadata": {
        "id": "ICJExt5i09k0"
      },
      "source": [
        "Set item at row 1, col 2 to 999 (more about indexing below)."
      ]
    },
    {
      "cell_type": "code",
      "execution_count": 34,
      "metadata": {
        "id": "unjqXIr309k4",
        "outputId": "f15d73f2-c2c3-4740-f883-198c6c5bb420",
        "colab": {
          "base_uri": "https://localhost:8080/"
        }
      },
      "outputs": [
        {
          "output_type": "execute_result",
          "data": {
            "text/plain": [
              "array([[  0,   1,   2,   3,   4,   5],\n",
              "       [  6,   7, 999,   9,  10,  11],\n",
              "       [ 12,  13,  14,  15,  16,  17],\n",
              "       [ 18,  19,  20,  21,  22,  23]])"
            ]
          },
          "metadata": {},
          "execution_count": 34
        }
      ],
      "source": [
        "g2[1, 2] = 999\n",
        "g2"
      ]
    },
    {
      "cell_type": "markdown",
      "metadata": {
        "id": "cIf5idLJ09k5"
      },
      "source": [
        "The corresponding element in `g` has been modified."
      ]
    },
    {
      "cell_type": "code",
      "execution_count": 35,
      "metadata": {
        "id": "0A-mCBuN09k6",
        "outputId": "988f7739-a506-465f-b893-74d24432fa2b",
        "colab": {
          "base_uri": "https://localhost:8080/"
        }
      },
      "outputs": [
        {
          "output_type": "execute_result",
          "data": {
            "text/plain": [
              "array([[[  0,   1,   2,   3],\n",
              "        [  4,   5,   6,   7],\n",
              "        [999,   9,  10,  11]],\n",
              "\n",
              "       [[ 12,  13,  14,  15],\n",
              "        [ 16,  17,  18,  19],\n",
              "        [ 20,  21,  22,  23]]])"
            ]
          },
          "metadata": {},
          "execution_count": 35
        }
      ],
      "source": [
        "g"
      ]
    },
    {
      "cell_type": "markdown",
      "metadata": {
        "id": "SBSQ_83j09k8"
      },
      "source": [
        "## `ravel`\n",
        "Finally, the `ravel` function returns a new one-dimensional `ndarray` that also points to the same data:"
      ]
    },
    {
      "cell_type": "code",
      "execution_count": 36,
      "metadata": {
        "id": "LQ-9DMmN09k9",
        "outputId": "a3229838-8311-43b8-9933-f11b24bad820",
        "colab": {
          "base_uri": "https://localhost:8080/"
        }
      },
      "outputs": [
        {
          "output_type": "execute_result",
          "data": {
            "text/plain": [
              "array([  0,   1,   2,   3,   4,   5,   6,   7, 999,   9,  10,  11,  12,\n",
              "        13,  14,  15,  16,  17,  18,  19,  20,  21,  22,  23])"
            ]
          },
          "metadata": {},
          "execution_count": 36
        }
      ],
      "source": [
        "g.ravel()"
      ]
    },
    {
      "cell_type": "markdown",
      "metadata": {
        "id": "FPe4UzQy09k-"
      },
      "source": [
        "# Arithmetic operations\n",
        "All the usual arithmetic operators (`+`, `-`, `*`, `/`, `//`, `**`, etc.) can be used with `ndarray`s. They apply *elementwise*:"
      ]
    },
    {
      "cell_type": "code",
      "execution_count": 37,
      "metadata": {
        "id": "B_R-th5w09lB",
        "outputId": "ac60992b-9de0-418f-de27-f3520682e628",
        "colab": {
          "base_uri": "https://localhost:8080/"
        }
      },
      "outputs": [
        {
          "output_type": "stream",
          "name": "stdout",
          "text": [
            "a + b  = [19 27 35 43]\n",
            "a - b  = [ 9 19 29 39]\n",
            "a * b  = [70 92 96 82]\n",
            "a / b  = [ 2.8         5.75       10.66666667 20.5       ]\n",
            "a // b  = [ 2  5 10 20]\n",
            "a % b  = [4 3 2 1]\n",
            "a ** b = [537824 279841  32768   1681]\n"
          ]
        }
      ],
      "source": [
        "a = np.array([14, 23, 32, 41])\n",
        "b = np.array([5,  4,  3,  2])\n",
        "print(\"a + b  =\", a + b)\n",
        "print(\"a - b  =\", a - b)\n",
        "print(\"a * b  =\", a * b)\n",
        "print(\"a / b  =\", a / b)\n",
        "print(\"a // b  =\", a // b)\n",
        "print(\"a % b  =\", a % b)\n",
        "print(\"a ** b =\", a ** b)"
      ]
    },
    {
      "cell_type": "markdown",
      "metadata": {
        "id": "l7N9AJc409lI"
      },
      "source": [
        "Note that the multiplication is *not* a matrix multiplication. We will discuss matrix operations below.\n",
        "\n",
        "The arrays must have the same shape. If they do not, NumPy will apply the *broadcasting rules*."
      ]
    },
    {
      "cell_type": "markdown",
      "metadata": {
        "id": "b9iWLALH09lQ"
      },
      "source": [
        "# Broadcasting"
      ]
    },
    {
      "cell_type": "markdown",
      "metadata": {
        "id": "adOihD9c09lS"
      },
      "source": [
        "In general, when NumPy expects arrays of the same shape but finds that this is not the case, it applies the so-called *broadcasting* rules:\n",
        "\n",
        "## First rule\n",
        "*If the arrays do not have the same rank, then a 1 will be prepended to the smaller ranking arrays until their ranks match.*"
      ]
    },
    {
      "cell_type": "code",
      "execution_count": 38,
      "metadata": {
        "id": "U46cw6ez09lV",
        "outputId": "a4b9df8c-ea41-4230-f4c0-798ca49d8855",
        "colab": {
          "base_uri": "https://localhost:8080/"
        }
      },
      "outputs": [
        {
          "output_type": "execute_result",
          "data": {
            "text/plain": [
              "array([[[0, 1, 2, 3, 4]]])"
            ]
          },
          "metadata": {},
          "execution_count": 38
        }
      ],
      "source": [
        "h = np.arange(5).reshape(1, 1, 5)\n",
        "h"
      ]
    },
    {
      "cell_type": "markdown",
      "metadata": {
        "id": "ZJ7dFLpx09lW"
      },
      "source": [
        "Now let's try to add a 1D array of shape `(5,)` to this 3D array of shape `(1,1,5)`. Applying the first rule of broadcasting!"
      ]
    },
    {
      "cell_type": "code",
      "execution_count": 39,
      "metadata": {
        "id": "H7URs4Ed09la",
        "outputId": "76a2831c-2a25-465f-d8d1-f4efbae05cc1",
        "colab": {
          "base_uri": "https://localhost:8080/"
        }
      },
      "outputs": [
        {
          "output_type": "execute_result",
          "data": {
            "text/plain": [
              "array([[[10, 21, 32, 43, 54]]])"
            ]
          },
          "metadata": {},
          "execution_count": 39
        }
      ],
      "source": [
        "h + [10, 20, 30, 40, 50]  # same as: h + [[[10, 20, 30, 40, 50]]]"
      ]
    },
    {
      "cell_type": "markdown",
      "metadata": {
        "id": "ztDaKowb09lb"
      },
      "source": [
        "## Second rule\n",
        "*Arrays with a 1 along a particular dimension act as if they had the size of the array with the largest shape along that dimension. The value of the array element is repeated along that dimension.*"
      ]
    },
    {
      "cell_type": "code",
      "execution_count": 40,
      "metadata": {
        "id": "YDVOsQnD09ld",
        "outputId": "9dba00a7-ce6a-4484-8afd-7345ae6f83f9",
        "colab": {
          "base_uri": "https://localhost:8080/"
        }
      },
      "outputs": [
        {
          "output_type": "execute_result",
          "data": {
            "text/plain": [
              "array([[0, 1, 2],\n",
              "       [3, 4, 5]])"
            ]
          },
          "metadata": {},
          "execution_count": 40
        }
      ],
      "source": [
        "k = np.arange(6).reshape(2, 3)\n",
        "k"
      ]
    },
    {
      "cell_type": "markdown",
      "metadata": {
        "id": "nhrD7KmE09ly"
      },
      "source": [
        "Let's try to add a 2D array of shape `(2,1)` to this 2D `ndarray` of shape `(2, 3)`. NumPy will apply the second rule of broadcasting:"
      ]
    },
    {
      "cell_type": "code",
      "execution_count": 41,
      "metadata": {
        "id": "H7YB8Q4_09lz",
        "outputId": "d507a0c5-136f-4823-87bc-de6f3b15b1a1",
        "colab": {
          "base_uri": "https://localhost:8080/"
        }
      },
      "outputs": [
        {
          "output_type": "execute_result",
          "data": {
            "text/plain": [
              "array([[100, 101, 102],\n",
              "       [203, 204, 205]])"
            ]
          },
          "metadata": {},
          "execution_count": 41
        }
      ],
      "source": [
        "k + [[100], [200]]  # same as: k + [[100, 100, 100], [200, 200, 200]]"
      ]
    },
    {
      "cell_type": "markdown",
      "metadata": {
        "id": "Y3Tbc7Ed09l1"
      },
      "source": [
        "Combining rules 1 & 2, we can do this:"
      ]
    },
    {
      "cell_type": "code",
      "execution_count": 42,
      "metadata": {
        "id": "tjJnT-em09mQ",
        "outputId": "a6a39a17-393c-4050-d59b-a52be9fa0a1e",
        "colab": {
          "base_uri": "https://localhost:8080/"
        }
      },
      "outputs": [
        {
          "output_type": "execute_result",
          "data": {
            "text/plain": [
              "array([[100, 201, 302],\n",
              "       [103, 204, 305]])"
            ]
          },
          "metadata": {},
          "execution_count": 42
        }
      ],
      "source": [
        "k + [100, 200, 300]  # after rule 1: [[100, 200, 300]], and after rule 2: [[100, 200, 300], [100, 200, 300]]"
      ]
    },
    {
      "cell_type": "markdown",
      "metadata": {
        "id": "BBqtVybk09nK"
      },
      "source": [
        "And also, very simply:"
      ]
    },
    {
      "cell_type": "code",
      "execution_count": 43,
      "metadata": {
        "id": "dvr_lTUO09nL",
        "outputId": "8058bda0-ec4b-4faf-c4bd-df0ec3551ac9",
        "colab": {
          "base_uri": "https://localhost:8080/"
        }
      },
      "outputs": [
        {
          "output_type": "execute_result",
          "data": {
            "text/plain": [
              "array([[1000, 1001, 1002],\n",
              "       [1003, 1004, 1005]])"
            ]
          },
          "metadata": {},
          "execution_count": 43
        }
      ],
      "source": [
        "k + 1000  # same as: k + [[1000, 1000, 1000], [1000, 1000, 1000]]"
      ]
    },
    {
      "cell_type": "markdown",
      "metadata": {
        "id": "0Obhhc3909nP"
      },
      "source": [
        "## Third rule\n",
        "*After rules 1 & 2, the sizes of all arrays must match.*"
      ]
    },
    {
      "cell_type": "code",
      "execution_count": 44,
      "metadata": {
        "id": "oVsDaIXO09nQ",
        "outputId": "7e7fd6bb-36fa-4e03-f6ec-849aca02f3af",
        "colab": {
          "base_uri": "https://localhost:8080/"
        }
      },
      "outputs": [
        {
          "output_type": "stream",
          "name": "stdout",
          "text": [
            "operands could not be broadcast together with shapes (2,3) (2,) \n"
          ]
        }
      ],
      "source": [
        "try:\n",
        "    k + [33, 44]\n",
        "except ValueError as e:\n",
        "    print(e)"
      ]
    },
    {
      "cell_type": "markdown",
      "metadata": {
        "id": "bf4gHlOo09nS"
      },
      "source": [
        "Broadcasting rules are used in many NumPy operations, not just arithmetic operations, as we will see below.\n",
        "For more details about broadcasting, check out [the documentation](https://docs.scipy.org/doc/numpy-dev/user/basics.broadcasting.html)."
      ]
    },
    {
      "cell_type": "markdown",
      "metadata": {
        "id": "eHS8DsxZ09nT"
      },
      "source": [
        "## Upcasting\n",
        "When trying to combine arrays with different `dtype`s, NumPy will *upcast* to a type capable of handling all possible values (regardless of what the *actual* values are)."
      ]
    },
    {
      "cell_type": "code",
      "execution_count": 45,
      "metadata": {
        "id": "MfnLquiS09nU",
        "outputId": "345ea001-f819-448f-e482-96c203e50443",
        "colab": {
          "base_uri": "https://localhost:8080/"
        }
      },
      "outputs": [
        {
          "output_type": "stream",
          "name": "stdout",
          "text": [
            "uint8 [0 1 2 3 4]\n"
          ]
        }
      ],
      "source": [
        "k1 = np.arange(0, 5, dtype=np.uint8)\n",
        "print(k1.dtype, k1)"
      ]
    },
    {
      "cell_type": "code",
      "execution_count": 46,
      "metadata": {
        "id": "T4Yv7I0809nU",
        "outputId": "97d5b9d0-9a59-4aaf-d603-3c45058390cf",
        "colab": {
          "base_uri": "https://localhost:8080/"
        }
      },
      "outputs": [
        {
          "output_type": "stream",
          "name": "stdout",
          "text": [
            "int16 [ 5  7  9 11 13]\n"
          ]
        }
      ],
      "source": [
        "k2 = k1 + np.array([5, 6, 7, 8, 9], dtype=np.int8)\n",
        "print(k2.dtype, k2)"
      ]
    },
    {
      "cell_type": "markdown",
      "metadata": {
        "id": "BR5vqACE09nW"
      },
      "source": [
        "Note that `int16` is required to represent all *possible* `int8` and `uint8` values (from -128 to 255), even though in this case a uint8 would have sufficed."
      ]
    },
    {
      "cell_type": "code",
      "execution_count": 47,
      "metadata": {
        "id": "RwK4vAox09nY",
        "outputId": "a95fa6f8-7bf7-4a13-a575-24c616cea901",
        "colab": {
          "base_uri": "https://localhost:8080/"
        }
      },
      "outputs": [
        {
          "output_type": "stream",
          "name": "stdout",
          "text": [
            "float64 [1.5 2.5 3.5 4.5 5.5]\n"
          ]
        }
      ],
      "source": [
        "k3 = k1 + 1.5\n",
        "print(k3.dtype, k3)"
      ]
    },
    {
      "cell_type": "markdown",
      "metadata": {
        "id": "T2Umau6e09na"
      },
      "source": [
        "# Conditional operators"
      ]
    },
    {
      "cell_type": "markdown",
      "metadata": {
        "id": "lRrEJeXC09nb"
      },
      "source": [
        "The conditional operators also apply elementwise:"
      ]
    },
    {
      "cell_type": "code",
      "execution_count": 48,
      "metadata": {
        "id": "Cp1mWDQx09nf",
        "outputId": "9079577f-aa65-4784-a44f-168ec5a3b529",
        "colab": {
          "base_uri": "https://localhost:8080/"
        }
      },
      "outputs": [
        {
          "output_type": "execute_result",
          "data": {
            "text/plain": [
              "array([False,  True,  True, False])"
            ]
          },
          "metadata": {},
          "execution_count": 48
        }
      ],
      "source": [
        "m = np.array([20, -5, 30, 40])\n",
        "m < [15, 16, 35, 36]"
      ]
    },
    {
      "cell_type": "markdown",
      "metadata": {
        "id": "Y0UP7ejO09ng"
      },
      "source": [
        "And using broadcasting:"
      ]
    },
    {
      "cell_type": "code",
      "execution_count": 49,
      "metadata": {
        "id": "CYgX8PFt09nh",
        "outputId": "9989478e-f6f4-4a1a-e121-c779e8e7b097",
        "colab": {
          "base_uri": "https://localhost:8080/"
        }
      },
      "outputs": [
        {
          "output_type": "execute_result",
          "data": {
            "text/plain": [
              "array([ True,  True, False, False])"
            ]
          },
          "metadata": {},
          "execution_count": 49
        }
      ],
      "source": [
        "m < 25  # equivalent to m < [25, 25, 25, 25]"
      ]
    },
    {
      "cell_type": "markdown",
      "metadata": {
        "id": "O09B6gh709ni"
      },
      "source": [
        "This is most useful in conjunction with boolean indexing (discussed below)."
      ]
    },
    {
      "cell_type": "code",
      "execution_count": 50,
      "metadata": {
        "id": "FacVvp9k09nk",
        "outputId": "d67cf3ea-bca4-4d7e-e779-b719b11be69b",
        "colab": {
          "base_uri": "https://localhost:8080/"
        }
      },
      "outputs": [
        {
          "output_type": "execute_result",
          "data": {
            "text/plain": [
              "array([20, -5])"
            ]
          },
          "metadata": {},
          "execution_count": 50
        }
      ],
      "source": [
        "m[m < 25]"
      ]
    },
    {
      "cell_type": "markdown",
      "metadata": {
        "id": "HqKrz_ym09nl"
      },
      "source": [
        "# Mathematical and statistical functions"
      ]
    },
    {
      "cell_type": "markdown",
      "metadata": {
        "id": "W07gE1Z_09nm"
      },
      "source": [
        "Many mathematical and statistical functions are available for `ndarray`s.\n",
        "\n",
        "## `ndarray` methods\n",
        "Some functions are simply `ndarray` methods, for example:"
      ]
    },
    {
      "cell_type": "code",
      "execution_count": 51,
      "metadata": {
        "id": "FEj-CbNd09nn",
        "outputId": "0acd94e0-42a5-4d0e-aa31-cb6b44184d29",
        "colab": {
          "base_uri": "https://localhost:8080/"
        }
      },
      "outputs": [
        {
          "output_type": "stream",
          "name": "stdout",
          "text": [
            "[[-2.5  3.1  7. ]\n",
            " [10.  11.  12. ]]\n",
            "mean = 6.766666666666667\n"
          ]
        }
      ],
      "source": [
        "a = np.array([[-2.5, 3.1, 7], [10, 11, 12]])\n",
        "print(a)\n",
        "print(\"mean =\", a.mean())"
      ]
    },
    {
      "cell_type": "markdown",
      "metadata": {
        "id": "bUtZxa_T09nq"
      },
      "source": [
        "Note that this computes the mean of all elements in the `ndarray`, regardless of its shape.\n",
        "\n",
        "Here are a few more useful `ndarray` methods:"
      ]
    },
    {
      "cell_type": "code",
      "execution_count": 52,
      "metadata": {
        "id": "BMsSlEVf09ns",
        "outputId": "0d18008e-8d2b-4f60-bea2-814e64989e31",
        "colab": {
          "base_uri": "https://localhost:8080/"
        }
      },
      "outputs": [
        {
          "output_type": "stream",
          "name": "stdout",
          "text": [
            "min = -2.5\n",
            "max = 12.0\n",
            "sum = 40.6\n",
            "prod = -71610.0\n",
            "std = 5.084835843520964\n",
            "var = 25.855555555555554\n"
          ]
        }
      ],
      "source": [
        "for func in (a.min, a.max, a.sum, a.prod, a.std, a.var):\n",
        "    print(func.__name__, \"=\", func())"
      ]
    },
    {
      "cell_type": "markdown",
      "metadata": {
        "id": "_7Scdkyn09nu"
      },
      "source": [
        "These functions accept an optional argument `axis` which lets you ask for the operation to be performed on elements along the given axis. For example:"
      ]
    },
    {
      "cell_type": "code",
      "execution_count": 53,
      "metadata": {
        "id": "wG9x_ygw09nv",
        "outputId": "4d9bda1a-2e8a-42ed-b262-a63f78946b13",
        "colab": {
          "base_uri": "https://localhost:8080/"
        }
      },
      "outputs": [
        {
          "output_type": "execute_result",
          "data": {
            "text/plain": [
              "array([[[ 0,  1,  2,  3],\n",
              "        [ 4,  5,  6,  7],\n",
              "        [ 8,  9, 10, 11]],\n",
              "\n",
              "       [[12, 13, 14, 15],\n",
              "        [16, 17, 18, 19],\n",
              "        [20, 21, 22, 23]]])"
            ]
          },
          "metadata": {},
          "execution_count": 53
        }
      ],
      "source": [
        "c=np.arange(24).reshape(2,3,4)\n",
        "c"
      ]
    },
    {
      "cell_type": "code",
      "execution_count": 54,
      "metadata": {
        "id": "BFHQ4I6c09nw",
        "outputId": "0bd959d1-8d1e-4ef6-b471-066ab3026982",
        "colab": {
          "base_uri": "https://localhost:8080/"
        }
      },
      "outputs": [
        {
          "output_type": "execute_result",
          "data": {
            "text/plain": [
              "array([[12, 14, 16, 18],\n",
              "       [20, 22, 24, 26],\n",
              "       [28, 30, 32, 34]])"
            ]
          },
          "metadata": {},
          "execution_count": 54
        }
      ],
      "source": [
        "c.sum(axis=0)  # sum across matrices"
      ]
    },
    {
      "cell_type": "code",
      "execution_count": 55,
      "metadata": {
        "id": "hfPUvskB09nx",
        "outputId": "f24d252d-f574-4cd2-e709-8dc69df8fbf9",
        "colab": {
          "base_uri": "https://localhost:8080/"
        }
      },
      "outputs": [
        {
          "output_type": "execute_result",
          "data": {
            "text/plain": [
              "array([[12, 15, 18, 21],\n",
              "       [48, 51, 54, 57]])"
            ]
          },
          "metadata": {},
          "execution_count": 55
        }
      ],
      "source": [
        "c.sum(axis=1)  # sum across rows"
      ]
    },
    {
      "cell_type": "markdown",
      "metadata": {
        "id": "pIGAlk8s09n2"
      },
      "source": [
        "You can also sum over multiple axes:"
      ]
    },
    {
      "cell_type": "code",
      "execution_count": 56,
      "metadata": {
        "id": "WK0gnugb09n9",
        "outputId": "34dfcce0-fadd-4c14-f6a5-290e79d598a4",
        "colab": {
          "base_uri": "https://localhost:8080/"
        }
      },
      "outputs": [
        {
          "output_type": "execute_result",
          "data": {
            "text/plain": [
              "array([ 60,  92, 124])"
            ]
          },
          "metadata": {},
          "execution_count": 56
        }
      ],
      "source": [
        "c.sum(axis=(0,2))  # sum across matrices and columns"
      ]
    },
    {
      "cell_type": "code",
      "execution_count": 57,
      "metadata": {
        "id": "JZWYH5TG09n_",
        "outputId": "c3e31012-6fbc-4520-bc11-f60a0bd58663",
        "colab": {
          "base_uri": "https://localhost:8080/"
        }
      },
      "outputs": [
        {
          "output_type": "execute_result",
          "data": {
            "text/plain": [
              "(60, 92, 124)"
            ]
          },
          "metadata": {},
          "execution_count": 57
        }
      ],
      "source": [
        "0+1+2+3 + 12+13+14+15, 4+5+6+7 + 16+17+18+19, 8+9+10+11 + 20+21+22+23"
      ]
    },
    {
      "cell_type": "markdown",
      "metadata": {
        "id": "MAzSmo_j09oA"
      },
      "source": [
        "## Universal functions\n",
        "NumPy also provides fast elementwise functions called *universal functions*, or **ufunc**. They are vectorized wrappers of simple functions. For example `square` returns a new `ndarray` which is a copy of the original `ndarray` except that each element is squared:"
      ]
    },
    {
      "cell_type": "code",
      "execution_count": 58,
      "metadata": {
        "id": "fOYx-VKF09oB",
        "outputId": "de99a764-038a-4d1c-cf57-d7523701c258",
        "colab": {
          "base_uri": "https://localhost:8080/"
        }
      },
      "outputs": [
        {
          "output_type": "execute_result",
          "data": {
            "text/plain": [
              "array([[  6.25,   9.61,  49.  ],\n",
              "       [100.  , 121.  , 144.  ]])"
            ]
          },
          "metadata": {},
          "execution_count": 58
        }
      ],
      "source": [
        "a = np.array([[-2.5, 3.1, 7], [10, 11, 12]])\n",
        "np.square(a)"
      ]
    },
    {
      "cell_type": "markdown",
      "metadata": {
        "id": "XAMcHbef09oD"
      },
      "source": [
        "Here are a few more useful unary ufuncs:"
      ]
    },
    {
      "cell_type": "code",
      "execution_count": 59,
      "metadata": {
        "id": "tAaNPWu-09oE",
        "outputId": "c18cbdc9-fbac-4604-d2ab-acd41fc13986",
        "colab": {
          "base_uri": "https://localhost:8080/"
        }
      },
      "outputs": [
        {
          "output_type": "stream",
          "name": "stdout",
          "text": [
            "Original ndarray\n",
            "[[-2.5  3.1  7. ]\n",
            " [10.  11.  12. ]]\n",
            "\n",
            " absolute\n",
            "[[ 2.5  3.1  7. ]\n",
            " [10.  11.  12. ]]\n",
            "\n",
            " sqrt\n",
            "[[       nan 1.76068169 2.64575131]\n",
            " [3.16227766 3.31662479 3.46410162]]\n",
            "\n",
            " exp\n",
            "[[8.20849986e-02 2.21979513e+01 1.09663316e+03]\n",
            " [2.20264658e+04 5.98741417e+04 1.62754791e+05]]\n",
            "\n",
            " log\n",
            "[[       nan 1.13140211 1.94591015]\n",
            " [2.30258509 2.39789527 2.48490665]]\n",
            "\n",
            " sign\n",
            "[[-1.  1.  1.]\n",
            " [ 1.  1.  1.]]\n",
            "\n",
            " ceil\n",
            "[[-2.  4.  7.]\n",
            " [10. 11. 12.]]\n",
            "\n",
            " modf\n",
            "(array([[-0.5,  0.1,  0. ],\n",
            "       [ 0. ,  0. ,  0. ]]), array([[-2.,  3.,  7.],\n",
            "       [10., 11., 12.]]))\n",
            "\n",
            " isnan\n",
            "[[False False False]\n",
            " [False False False]]\n",
            "\n",
            " cos\n",
            "[[-0.80114362 -0.99913515  0.75390225]\n",
            " [-0.83907153  0.0044257   0.84385396]]\n"
          ]
        },
        {
          "output_type": "stream",
          "name": "stderr",
          "text": [
            "/usr/local/lib/python3.7/dist-packages/ipykernel_launcher.py:5: RuntimeWarning: invalid value encountered in sqrt\n",
            "  \"\"\"\n",
            "/usr/local/lib/python3.7/dist-packages/ipykernel_launcher.py:5: RuntimeWarning: invalid value encountered in log\n",
            "  \"\"\"\n"
          ]
        }
      ],
      "source": [
        "print(\"Original ndarray\")\n",
        "print(a)\n",
        "for func in (np.abs, np.sqrt, np.exp, np.log, np.sign, np.ceil, np.modf, np.isnan, np.cos):\n",
        "    print(\"\\n\", func.__name__)\n",
        "    print(func(a))"
      ]
    },
    {
      "cell_type": "markdown",
      "metadata": {
        "id": "Ux7oNw7Q09oG"
      },
      "source": [
        "The two warnings are due to the fact that `sqrt()` and `log()` are undefined for negative numbers, which is why there is a `np.nan` value in the first cell of the output of these two functions."
      ]
    },
    {
      "cell_type": "markdown",
      "metadata": {
        "id": "u7lbZ9tx09oH"
      },
      "source": [
        "## Binary ufuncs\n",
        "There are also many binary ufuncs, that apply elementwise on two `ndarray`s.  Broadcasting rules are applied if the arrays do not have the same shape:"
      ]
    },
    {
      "cell_type": "code",
      "execution_count": 60,
      "metadata": {
        "id": "g00UWCk709oJ",
        "outputId": "2756968f-6d5c-4163-ba5b-74fda12664c9",
        "colab": {
          "base_uri": "https://localhost:8080/"
        }
      },
      "outputs": [
        {
          "output_type": "execute_result",
          "data": {
            "text/plain": [
              "array([ 3,  6,  2, 11])"
            ]
          },
          "metadata": {},
          "execution_count": 60
        }
      ],
      "source": [
        "a = np.array([1, -2, 3, 4])\n",
        "b = np.array([2, 8, -1, 7])\n",
        "np.add(a, b)  # equivalent to a + b"
      ]
    },
    {
      "cell_type": "code",
      "execution_count": 61,
      "metadata": {
        "id": "pK1VhpBm09oK",
        "outputId": "7f82fadd-d9b9-4204-9bfc-6bb51dab8a02",
        "colab": {
          "base_uri": "https://localhost:8080/"
        }
      },
      "outputs": [
        {
          "output_type": "execute_result",
          "data": {
            "text/plain": [
              "array([False, False,  True, False])"
            ]
          },
          "metadata": {},
          "execution_count": 61
        }
      ],
      "source": [
        "np.greater(a, b)  # equivalent to a > b"
      ]
    },
    {
      "cell_type": "code",
      "execution_count": 62,
      "metadata": {
        "id": "fGL_QwTT09oM",
        "outputId": "25f0c704-ccb2-449e-be79-ca7f573ca1b1",
        "colab": {
          "base_uri": "https://localhost:8080/"
        }
      },
      "outputs": [
        {
          "output_type": "execute_result",
          "data": {
            "text/plain": [
              "array([2, 8, 3, 7])"
            ]
          },
          "metadata": {},
          "execution_count": 62
        }
      ],
      "source": [
        "np.maximum(a, b)"
      ]
    },
    {
      "cell_type": "code",
      "execution_count": 63,
      "metadata": {
        "id": "LfhnbxVU09oN",
        "outputId": "3622e6a3-be56-4e5e-a200-cda736d68025",
        "colab": {
          "base_uri": "https://localhost:8080/"
        }
      },
      "outputs": [
        {
          "output_type": "execute_result",
          "data": {
            "text/plain": [
              "array([ 1.,  2., -3.,  4.])"
            ]
          },
          "metadata": {},
          "execution_count": 63
        }
      ],
      "source": [
        "np.copysign(a, b)"
      ]
    },
    {
      "cell_type": "markdown",
      "metadata": {
        "id": "JNtDjsVr09oO"
      },
      "source": [
        "# Array indexing\n",
        "## One-dimensional arrays\n",
        "One-dimensional NumPy arrays can be accessed more or less like regular python arrays:"
      ]
    },
    {
      "cell_type": "code",
      "execution_count": 64,
      "metadata": {
        "id": "Z8kD4-Gn09oU",
        "outputId": "a512b01b-67fe-4c2d-f4cb-6ade26b08973",
        "colab": {
          "base_uri": "https://localhost:8080/"
        }
      },
      "outputs": [
        {
          "output_type": "execute_result",
          "data": {
            "text/plain": [
              "19"
            ]
          },
          "metadata": {},
          "execution_count": 64
        }
      ],
      "source": [
        "a = np.array([1, 5, 3, 19, 13, 7, 3])\n",
        "a[3]"
      ]
    },
    {
      "cell_type": "code",
      "execution_count": 65,
      "metadata": {
        "id": "JUO-XZiS09oW",
        "outputId": "59d1e0d1-c614-40f4-d89b-078b849dcd69",
        "colab": {
          "base_uri": "https://localhost:8080/"
        }
      },
      "outputs": [
        {
          "output_type": "execute_result",
          "data": {
            "text/plain": [
              "array([ 3, 19, 13])"
            ]
          },
          "metadata": {},
          "execution_count": 65
        }
      ],
      "source": [
        "a[2:5]"
      ]
    },
    {
      "cell_type": "code",
      "execution_count": 66,
      "metadata": {
        "id": "clQs9d_109oX",
        "outputId": "6f95eb03-78fc-47c9-85eb-598ac27a5b3b",
        "colab": {
          "base_uri": "https://localhost:8080/"
        }
      },
      "outputs": [
        {
          "output_type": "execute_result",
          "data": {
            "text/plain": [
              "array([ 3, 19, 13,  7])"
            ]
          },
          "metadata": {},
          "execution_count": 66
        }
      ],
      "source": [
        "a[2:-1]"
      ]
    },
    {
      "cell_type": "code",
      "execution_count": 67,
      "metadata": {
        "id": "SalQBhTa09oY",
        "outputId": "13ee2648-a47f-40e2-c9e6-4dc5f9edb36f",
        "colab": {
          "base_uri": "https://localhost:8080/"
        }
      },
      "outputs": [
        {
          "output_type": "execute_result",
          "data": {
            "text/plain": [
              "array([1, 5])"
            ]
          },
          "metadata": {},
          "execution_count": 67
        }
      ],
      "source": [
        "a[:2]"
      ]
    },
    {
      "cell_type": "code",
      "execution_count": 68,
      "metadata": {
        "id": "O68E9YWo09oZ",
        "outputId": "eb7c116f-c9a9-43d8-9fe4-9d6a9a847bca",
        "colab": {
          "base_uri": "https://localhost:8080/"
        }
      },
      "outputs": [
        {
          "output_type": "execute_result",
          "data": {
            "text/plain": [
              "array([ 3, 13,  3])"
            ]
          },
          "metadata": {},
          "execution_count": 68
        }
      ],
      "source": [
        "a[2::2]"
      ]
    },
    {
      "cell_type": "code",
      "execution_count": 69,
      "metadata": {
        "id": "LbvS6Teh09ob",
        "outputId": "c7f58a21-872a-4255-9f7a-8d15db886e86",
        "colab": {
          "base_uri": "https://localhost:8080/"
        }
      },
      "outputs": [
        {
          "output_type": "execute_result",
          "data": {
            "text/plain": [
              "array([ 3,  7, 13, 19,  3,  5,  1])"
            ]
          },
          "metadata": {},
          "execution_count": 69
        }
      ],
      "source": [
        "a[::-1]"
      ]
    },
    {
      "cell_type": "markdown",
      "metadata": {
        "id": "DqaKp_AN09od"
      },
      "source": [
        "Of course, you can modify elements:"
      ]
    },
    {
      "cell_type": "code",
      "execution_count": 70,
      "metadata": {
        "id": "04amPH_v09oe",
        "outputId": "7061ee43-3f25-40d9-9500-e92bbd9de41c",
        "colab": {
          "base_uri": "https://localhost:8080/"
        }
      },
      "outputs": [
        {
          "output_type": "execute_result",
          "data": {
            "text/plain": [
              "array([  1,   5,   3, 999,  13,   7,   3])"
            ]
          },
          "metadata": {},
          "execution_count": 70
        }
      ],
      "source": [
        "a[3]=999\n",
        "a"
      ]
    },
    {
      "cell_type": "markdown",
      "metadata": {
        "id": "kxSYRZqw09oh"
      },
      "source": [
        "You can also modify an `ndarray` slice:"
      ]
    },
    {
      "cell_type": "code",
      "execution_count": 71,
      "metadata": {
        "id": "BIv5jqOP09oi",
        "outputId": "17b1655a-c382-49a8-d59f-8415779e282a",
        "colab": {
          "base_uri": "https://localhost:8080/"
        }
      },
      "outputs": [
        {
          "output_type": "execute_result",
          "data": {
            "text/plain": [
              "array([  1,   5, 997, 998, 999,   7,   3])"
            ]
          },
          "metadata": {},
          "execution_count": 71
        }
      ],
      "source": [
        "a[2:5] = [997, 998, 999]\n",
        "a"
      ]
    },
    {
      "cell_type": "markdown",
      "metadata": {
        "id": "w5vinwWw09oj"
      },
      "source": [
        "## Differences with regular python arrays\n",
        "Contrary to regular python arrays, if you assign a single value to an `ndarray` slice, it is copied across the whole slice, thanks to broadcasting rules discussed above."
      ]
    },
    {
      "cell_type": "code",
      "execution_count": 72,
      "metadata": {
        "id": "oOXdg5PP09ok",
        "outputId": "ad2f5106-084e-4cef-e07f-2326cfd5b6c4",
        "colab": {
          "base_uri": "https://localhost:8080/"
        }
      },
      "outputs": [
        {
          "output_type": "execute_result",
          "data": {
            "text/plain": [
              "array([ 1,  5, -1, -1, -1,  7,  3])"
            ]
          },
          "metadata": {},
          "execution_count": 72
        }
      ],
      "source": [
        "a[2:5] = -1\n",
        "a"
      ]
    },
    {
      "cell_type": "markdown",
      "metadata": {
        "id": "--Xe-1S009ol"
      },
      "source": [
        "Also, you cannot grow or shrink `ndarray`s this way:"
      ]
    },
    {
      "cell_type": "code",
      "execution_count": 73,
      "metadata": {
        "id": "O75_xG2q09ov",
        "outputId": "bceee2b9-a40d-4e41-e6ce-8f5b08e87ea9",
        "colab": {
          "base_uri": "https://localhost:8080/"
        }
      },
      "outputs": [
        {
          "output_type": "stream",
          "name": "stdout",
          "text": [
            "could not broadcast input array from shape (6,) into shape (3,)\n"
          ]
        }
      ],
      "source": [
        "try:\n",
        "    a[2:5] = [1,2,3,4,5,6]  # too long\n",
        "except ValueError as e:\n",
        "    print(e)"
      ]
    },
    {
      "cell_type": "markdown",
      "metadata": {
        "id": "_qAwslc409oz"
      },
      "source": [
        "You cannot delete elements either:"
      ]
    },
    {
      "cell_type": "code",
      "execution_count": 74,
      "metadata": {
        "id": "zFjvffSM09o1",
        "outputId": "a8147970-c663-421f-fbc7-31eefca387a9",
        "colab": {
          "base_uri": "https://localhost:8080/"
        }
      },
      "outputs": [
        {
          "output_type": "stream",
          "name": "stdout",
          "text": [
            "cannot delete array elements\n"
          ]
        }
      ],
      "source": [
        "try:\n",
        "    del a[2:5]\n",
        "except ValueError as e:\n",
        "    print(e)"
      ]
    },
    {
      "cell_type": "markdown",
      "metadata": {
        "id": "fMuITLnI09o5"
      },
      "source": [
        "Last but not least, `ndarray` **slices are actually *views*** on the same data buffer. This means that if you create a slice and modify it, you are actually going to modify the original `ndarray` as well!"
      ]
    },
    {
      "cell_type": "code",
      "execution_count": 75,
      "metadata": {
        "id": "qZ80V9gF09o9",
        "outputId": "0ffb6806-c930-4f14-d990-cf4d5ea698c3",
        "colab": {
          "base_uri": "https://localhost:8080/"
        }
      },
      "outputs": [
        {
          "output_type": "execute_result",
          "data": {
            "text/plain": [
              "array([   1,    5,   -1, 1000,   -1,    7,    3])"
            ]
          },
          "metadata": {},
          "execution_count": 75
        }
      ],
      "source": [
        "a_slice = a[2:6]\n",
        "a_slice[1] = 1000\n",
        "a  # the original array was modified!"
      ]
    },
    {
      "cell_type": "code",
      "execution_count": 76,
      "metadata": {
        "id": "GGMB4T8t09pC",
        "outputId": "0865e2b9-5c40-46ef-b286-4122ae758c23",
        "colab": {
          "base_uri": "https://localhost:8080/"
        }
      },
      "outputs": [
        {
          "output_type": "execute_result",
          "data": {
            "text/plain": [
              "array([  -1, 2000,   -1,    7])"
            ]
          },
          "metadata": {},
          "execution_count": 76
        }
      ],
      "source": [
        "a[3] = 2000\n",
        "a_slice  # similarly, modifying the original array modifies the slice!"
      ]
    },
    {
      "cell_type": "markdown",
      "metadata": {
        "id": "AA4Jj4f809pG"
      },
      "source": [
        "If you want a copy of the data, you need to use the `copy` method:"
      ]
    },
    {
      "cell_type": "code",
      "execution_count": 77,
      "metadata": {
        "id": "gECu4dIU09pI",
        "outputId": "23588f74-dd33-4683-fec3-15f64412f112",
        "colab": {
          "base_uri": "https://localhost:8080/"
        }
      },
      "outputs": [
        {
          "output_type": "execute_result",
          "data": {
            "text/plain": [
              "array([   1,    5,   -1, 2000,   -1,    7,    3])"
            ]
          },
          "metadata": {},
          "execution_count": 77
        }
      ],
      "source": [
        "another_slice = a[2:6].copy()\n",
        "another_slice[1] = 3000\n",
        "a  # the original array is untouched"
      ]
    },
    {
      "cell_type": "code",
      "execution_count": 78,
      "metadata": {
        "id": "m6UAqcKv09pP",
        "outputId": "60950215-dc07-4622-edc3-6287b218e23f",
        "colab": {
          "base_uri": "https://localhost:8080/"
        }
      },
      "outputs": [
        {
          "output_type": "execute_result",
          "data": {
            "text/plain": [
              "array([  -1, 3000,   -1,    7])"
            ]
          },
          "metadata": {},
          "execution_count": 78
        }
      ],
      "source": [
        "a[3] = 4000\n",
        "another_slice  # similary, modifying the original array does not affect the slice copy"
      ]
    },
    {
      "cell_type": "markdown",
      "metadata": {
        "id": "YMk2OIXG09pR"
      },
      "source": [
        "## Multi-dimensional arrays\n",
        "Multi-dimensional arrays can be accessed in a similar way by providing an index or slice for each axis, separated by commas:"
      ]
    },
    {
      "cell_type": "code",
      "execution_count": 79,
      "metadata": {
        "id": "lsBFvbkd09pT",
        "outputId": "a38d81ed-0085-4e07-c153-921ead8e1120",
        "colab": {
          "base_uri": "https://localhost:8080/"
        }
      },
      "outputs": [
        {
          "output_type": "execute_result",
          "data": {
            "text/plain": [
              "array([[ 0,  1,  2,  3,  4,  5,  6,  7,  8,  9, 10, 11],\n",
              "       [12, 13, 14, 15, 16, 17, 18, 19, 20, 21, 22, 23],\n",
              "       [24, 25, 26, 27, 28, 29, 30, 31, 32, 33, 34, 35],\n",
              "       [36, 37, 38, 39, 40, 41, 42, 43, 44, 45, 46, 47]])"
            ]
          },
          "metadata": {},
          "execution_count": 79
        }
      ],
      "source": [
        "b = np.arange(48).reshape(4, 12)\n",
        "b"
      ]
    },
    {
      "cell_type": "code",
      "execution_count": 80,
      "metadata": {
        "id": "jJkzIQy609pU",
        "outputId": "edf235cd-c5cd-4df2-d311-df3ea30de29e",
        "colab": {
          "base_uri": "https://localhost:8080/"
        }
      },
      "outputs": [
        {
          "output_type": "execute_result",
          "data": {
            "text/plain": [
              "14"
            ]
          },
          "metadata": {},
          "execution_count": 80
        }
      ],
      "source": [
        "b[1, 2]  # row 1, col 2"
      ]
    },
    {
      "cell_type": "code",
      "execution_count": 81,
      "metadata": {
        "id": "0nk_Q-JQ09pY",
        "outputId": "bf84633e-9594-4a51-819b-24fbbf4d1125",
        "colab": {
          "base_uri": "https://localhost:8080/"
        }
      },
      "outputs": [
        {
          "output_type": "execute_result",
          "data": {
            "text/plain": [
              "array([12, 13, 14, 15, 16, 17, 18, 19, 20, 21, 22, 23])"
            ]
          },
          "metadata": {},
          "execution_count": 81
        }
      ],
      "source": [
        "b[1, :]  # row 1, all columns"
      ]
    },
    {
      "cell_type": "code",
      "execution_count": 82,
      "metadata": {
        "id": "ps-AvIA609pZ",
        "outputId": "c0784596-ac38-4ee4-9c54-8e940f73be40",
        "colab": {
          "base_uri": "https://localhost:8080/"
        }
      },
      "outputs": [
        {
          "output_type": "execute_result",
          "data": {
            "text/plain": [
              "array([ 1, 13, 25, 37])"
            ]
          },
          "metadata": {},
          "execution_count": 82
        }
      ],
      "source": [
        "b[:, 1]  # all rows, column 1"
      ]
    },
    {
      "cell_type": "markdown",
      "metadata": {
        "id": "-2jEnpEg09pb"
      },
      "source": [
        "**Caution**: note the subtle difference between these two expressions: "
      ]
    },
    {
      "cell_type": "code",
      "execution_count": 83,
      "metadata": {
        "scrolled": true,
        "id": "wcUasuB209pc",
        "outputId": "52c5b7c0-b9ed-4605-80f1-35e3169f8898",
        "colab": {
          "base_uri": "https://localhost:8080/"
        }
      },
      "outputs": [
        {
          "output_type": "execute_result",
          "data": {
            "text/plain": [
              "array([12, 13, 14, 15, 16, 17, 18, 19, 20, 21, 22, 23])"
            ]
          },
          "metadata": {},
          "execution_count": 83
        }
      ],
      "source": [
        "b[1, :]"
      ]
    },
    {
      "cell_type": "code",
      "execution_count": 84,
      "metadata": {
        "id": "tHHHSAzA09p7",
        "outputId": "efbdf90b-bfac-4c9f-a6da-f5f6daefc4c1",
        "colab": {
          "base_uri": "https://localhost:8080/"
        }
      },
      "outputs": [
        {
          "output_type": "execute_result",
          "data": {
            "text/plain": [
              "array([[12, 13, 14, 15, 16, 17, 18, 19, 20, 21, 22, 23]])"
            ]
          },
          "metadata": {},
          "execution_count": 84
        }
      ],
      "source": [
        "b[1:2, :]"
      ]
    },
    {
      "cell_type": "markdown",
      "metadata": {
        "id": "wvy79XL809qA"
      },
      "source": [
        "The first expression returns row 1 as a 1D array of shape `(12,)`, while the second returns that same row as a 2D array of shape `(1, 12)`."
      ]
    },
    {
      "cell_type": "markdown",
      "metadata": {
        "id": "KPdOrHvD09qB"
      },
      "source": [
        "## Fancy indexing\n",
        "You may also specify a list of indices that you are interested in. This is referred to as *fancy indexing*."
      ]
    },
    {
      "cell_type": "code",
      "execution_count": 85,
      "metadata": {
        "scrolled": true,
        "id": "jrRoRfcl09qC",
        "outputId": "6055ac4b-7590-4750-f32a-0780b30837ed",
        "colab": {
          "base_uri": "https://localhost:8080/"
        }
      },
      "outputs": [
        {
          "output_type": "execute_result",
          "data": {
            "text/plain": [
              "array([[ 2,  3,  4],\n",
              "       [26, 27, 28]])"
            ]
          },
          "metadata": {},
          "execution_count": 85
        }
      ],
      "source": [
        "b[(0,2), 2:5]  # rows 0 and 2, columns 2 to 4 (5-1)"
      ]
    },
    {
      "cell_type": "code",
      "execution_count": 86,
      "metadata": {
        "id": "pJjTjXgt09qE",
        "outputId": "84fe5cbc-7448-4f26-a53a-b3d08191768d",
        "colab": {
          "base_uri": "https://localhost:8080/"
        }
      },
      "outputs": [
        {
          "output_type": "execute_result",
          "data": {
            "text/plain": [
              "array([[11,  2, 11],\n",
              "       [23, 14, 23],\n",
              "       [35, 26, 35],\n",
              "       [47, 38, 47]])"
            ]
          },
          "metadata": {},
          "execution_count": 86
        }
      ],
      "source": [
        "b[:, (-1, 2, -1)]  # all rows, columns -1 (last), 2 and -1 (again, and in this order)"
      ]
    },
    {
      "cell_type": "markdown",
      "metadata": {
        "id": "zSqXFAjR09qG"
      },
      "source": [
        "If you provide multiple index arrays, you get a 1D `ndarray` containing the values of the elements at the specified coordinates."
      ]
    },
    {
      "cell_type": "code",
      "execution_count": 87,
      "metadata": {
        "id": "SlculSBm09qH",
        "outputId": "57939be2-8451-4af3-f7ca-e6e0ff4ea93a",
        "colab": {
          "base_uri": "https://localhost:8080/"
        }
      },
      "outputs": [
        {
          "output_type": "execute_result",
          "data": {
            "text/plain": [
              "array([41, 33, 37, 33])"
            ]
          },
          "metadata": {},
          "execution_count": 87
        }
      ],
      "source": [
        "b[(-1, 2, -1, 2), (5, 9, 1, 9)]  # returns a 1D array with b[-1, 5], b[2, 9], b[-1, 1] and b[2, 9] (again)"
      ]
    },
    {
      "cell_type": "markdown",
      "metadata": {
        "id": "8hKaX38F09qI"
      },
      "source": [
        "## Higher dimensions\n",
        "Everything works just as well with higher dimensional arrays, but it's useful to look at a few examples:"
      ]
    },
    {
      "cell_type": "code",
      "execution_count": 88,
      "metadata": {
        "id": "l_VDGst809qI",
        "outputId": "3f5c9125-0a84-4b74-80a0-8187242895c2",
        "colab": {
          "base_uri": "https://localhost:8080/"
        }
      },
      "outputs": [
        {
          "output_type": "execute_result",
          "data": {
            "text/plain": [
              "array([[[ 0,  1,  2,  3,  4,  5],\n",
              "        [ 6,  7,  8,  9, 10, 11]],\n",
              "\n",
              "       [[12, 13, 14, 15, 16, 17],\n",
              "        [18, 19, 20, 21, 22, 23]],\n",
              "\n",
              "       [[24, 25, 26, 27, 28, 29],\n",
              "        [30, 31, 32, 33, 34, 35]],\n",
              "\n",
              "       [[36, 37, 38, 39, 40, 41],\n",
              "        [42, 43, 44, 45, 46, 47]]])"
            ]
          },
          "metadata": {},
          "execution_count": 88
        }
      ],
      "source": [
        "c = b.reshape(4,2,6)\n",
        "c"
      ]
    },
    {
      "cell_type": "code",
      "execution_count": 89,
      "metadata": {
        "id": "xkN-mrJB09qO",
        "outputId": "c0a1700c-6f4d-4f4e-d99c-75bc1a0547b6",
        "colab": {
          "base_uri": "https://localhost:8080/"
        }
      },
      "outputs": [
        {
          "output_type": "execute_result",
          "data": {
            "text/plain": [
              "34"
            ]
          },
          "metadata": {},
          "execution_count": 89
        }
      ],
      "source": [
        "c[2, 1, 4]  # matrix 2, row 1, col 4"
      ]
    },
    {
      "cell_type": "code",
      "execution_count": 90,
      "metadata": {
        "id": "h166B7dt09qP",
        "outputId": "8b2c1804-a011-485f-c0e7-be116485247f",
        "colab": {
          "base_uri": "https://localhost:8080/"
        }
      },
      "outputs": [
        {
          "output_type": "execute_result",
          "data": {
            "text/plain": [
              "array([27, 33])"
            ]
          },
          "metadata": {},
          "execution_count": 90
        }
      ],
      "source": [
        "c[2, :, 3]  # matrix 2, all rows, col 3"
      ]
    },
    {
      "cell_type": "markdown",
      "metadata": {
        "id": "YGqet_7409qQ"
      },
      "source": [
        "If you omit coordinates for some axes, then all elements in these axes are returned:"
      ]
    },
    {
      "cell_type": "code",
      "execution_count": 91,
      "metadata": {
        "id": "y6MAUtKG09qR",
        "outputId": "c37a3e4d-ab0c-4723-93d0-d5096b56d995",
        "colab": {
          "base_uri": "https://localhost:8080/"
        }
      },
      "outputs": [
        {
          "output_type": "execute_result",
          "data": {
            "text/plain": [
              "array([30, 31, 32, 33, 34, 35])"
            ]
          },
          "metadata": {},
          "execution_count": 91
        }
      ],
      "source": [
        "c[2, 1]  # Return matrix 2, row 1, all columns.  This is equivalent to c[2, 1, :]"
      ]
    },
    {
      "cell_type": "markdown",
      "metadata": {
        "id": "oxVuyfWR09qS"
      },
      "source": [
        "## Ellipsis (`...`)\n",
        "You may also write an ellipsis (`...`) to ask that all non-specified axes be entirely included."
      ]
    },
    {
      "cell_type": "code",
      "execution_count": 92,
      "metadata": {
        "id": "8xz4E9FS09qT",
        "outputId": "e1b6fde3-be2f-4cef-faf9-136bcd288245",
        "colab": {
          "base_uri": "https://localhost:8080/"
        }
      },
      "outputs": [
        {
          "output_type": "execute_result",
          "data": {
            "text/plain": [
              "array([[24, 25, 26, 27, 28, 29],\n",
              "       [30, 31, 32, 33, 34, 35]])"
            ]
          },
          "metadata": {},
          "execution_count": 92
        }
      ],
      "source": [
        "c[2, ...]  #  matrix 2, all rows, all columns.  This is equivalent to c[2, :, :]"
      ]
    },
    {
      "cell_type": "code",
      "execution_count": 93,
      "metadata": {
        "id": "t21Lh-ap09qV",
        "outputId": "c2b975ed-84e2-4163-e109-0fcf4f7905a2",
        "colab": {
          "base_uri": "https://localhost:8080/"
        }
      },
      "outputs": [
        {
          "output_type": "execute_result",
          "data": {
            "text/plain": [
              "array([30, 31, 32, 33, 34, 35])"
            ]
          },
          "metadata": {},
          "execution_count": 93
        }
      ],
      "source": [
        "c[2, 1, ...]  # matrix 2, row 1, all columns.  This is equivalent to c[2, 1, :]"
      ]
    },
    {
      "cell_type": "code",
      "execution_count": 94,
      "metadata": {
        "id": "4aHDDH6J09qW",
        "outputId": "6352278c-de15-4c6f-982d-32e65ec5ef9a",
        "colab": {
          "base_uri": "https://localhost:8080/"
        }
      },
      "outputs": [
        {
          "output_type": "execute_result",
          "data": {
            "text/plain": [
              "array([27, 33])"
            ]
          },
          "metadata": {},
          "execution_count": 94
        }
      ],
      "source": [
        "c[2, ..., 3]  # matrix 2, all rows, column 3.  This is equivalent to c[2, :, 3]"
      ]
    },
    {
      "cell_type": "code",
      "execution_count": 95,
      "metadata": {
        "id": "Ky4bfw5109qX",
        "outputId": "44a7f411-b15b-4fbb-dfbe-b98f7529dc1b",
        "colab": {
          "base_uri": "https://localhost:8080/"
        }
      },
      "outputs": [
        {
          "output_type": "execute_result",
          "data": {
            "text/plain": [
              "array([[ 3,  9],\n",
              "       [15, 21],\n",
              "       [27, 33],\n",
              "       [39, 45]])"
            ]
          },
          "metadata": {},
          "execution_count": 95
        }
      ],
      "source": [
        "c[..., 3]  # all matrices, all rows, column 3.  This is equivalent to c[:, :, 3]"
      ]
    },
    {
      "cell_type": "markdown",
      "metadata": {
        "id": "i5_XlG3K09qY"
      },
      "source": [
        "## Boolean indexing\n",
        "You can also provide an `ndarray` of boolean values on one axis to specify the indices that you want to access."
      ]
    },
    {
      "cell_type": "code",
      "execution_count": 96,
      "metadata": {
        "id": "8LG2JiN609qZ",
        "outputId": "746237e5-085e-4169-fddd-2d6bf8c69f18",
        "colab": {
          "base_uri": "https://localhost:8080/"
        }
      },
      "outputs": [
        {
          "output_type": "execute_result",
          "data": {
            "text/plain": [
              "array([[ 0,  1,  2,  3,  4,  5,  6,  7,  8,  9, 10, 11],\n",
              "       [12, 13, 14, 15, 16, 17, 18, 19, 20, 21, 22, 23],\n",
              "       [24, 25, 26, 27, 28, 29, 30, 31, 32, 33, 34, 35],\n",
              "       [36, 37, 38, 39, 40, 41, 42, 43, 44, 45, 46, 47]])"
            ]
          },
          "metadata": {},
          "execution_count": 96
        }
      ],
      "source": [
        "b = np.arange(48).reshape(4, 12)\n",
        "b"
      ]
    },
    {
      "cell_type": "code",
      "execution_count": 97,
      "metadata": {
        "id": "NnX3L4gU09qa",
        "outputId": "73ca4075-fe65-43d1-f390-3c31081e0e63",
        "colab": {
          "base_uri": "https://localhost:8080/"
        }
      },
      "outputs": [
        {
          "output_type": "execute_result",
          "data": {
            "text/plain": [
              "array([[ 0,  1,  2,  3,  4,  5,  6,  7,  8,  9, 10, 11],\n",
              "       [24, 25, 26, 27, 28, 29, 30, 31, 32, 33, 34, 35]])"
            ]
          },
          "metadata": {},
          "execution_count": 97
        }
      ],
      "source": [
        "rows_on = np.array([True, False, True, False])\n",
        "b[rows_on, :]  # Rows 0 and 2, all columns. Equivalent to b[(0, 2), :]"
      ]
    },
    {
      "cell_type": "code",
      "execution_count": 98,
      "metadata": {
        "id": "HQrYXz_909qb",
        "outputId": "98f2aa37-5672-442b-a805-109b5d922808",
        "colab": {
          "base_uri": "https://localhost:8080/"
        }
      },
      "outputs": [
        {
          "output_type": "execute_result",
          "data": {
            "text/plain": [
              "array([[ 1,  4,  7, 10],\n",
              "       [13, 16, 19, 22],\n",
              "       [25, 28, 31, 34],\n",
              "       [37, 40, 43, 46]])"
            ]
          },
          "metadata": {},
          "execution_count": 98
        }
      ],
      "source": [
        "cols_on = np.array([False, True, False] * 4)\n",
        "b[:, cols_on]  # All rows, columns 1, 4, 7 and 10"
      ]
    },
    {
      "cell_type": "markdown",
      "metadata": {
        "id": "bEt7jilp09qc"
      },
      "source": [
        "## `np.ix_`\n",
        "You cannot use boolean indexing this way on multiple axes, but you can work around this by using the `ix_` function:"
      ]
    },
    {
      "cell_type": "code",
      "execution_count": 99,
      "metadata": {
        "id": "t8eil6MY09qd",
        "outputId": "879b8137-dadb-4381-e022-692668c69937",
        "colab": {
          "base_uri": "https://localhost:8080/"
        }
      },
      "outputs": [
        {
          "output_type": "execute_result",
          "data": {
            "text/plain": [
              "array([[ 1,  4,  7, 10],\n",
              "       [25, 28, 31, 34]])"
            ]
          },
          "metadata": {},
          "execution_count": 99
        }
      ],
      "source": [
        "b[np.ix_(rows_on, cols_on)]"
      ]
    },
    {
      "cell_type": "code",
      "execution_count": 100,
      "metadata": {
        "id": "8bIPlFDo09qk",
        "outputId": "0c364fe3-da17-4330-8b78-c59cd31ad67f",
        "colab": {
          "base_uri": "https://localhost:8080/"
        }
      },
      "outputs": [
        {
          "output_type": "execute_result",
          "data": {
            "text/plain": [
              "(array([[0],\n",
              "        [2]]), array([[ 1,  4,  7, 10]]))"
            ]
          },
          "metadata": {},
          "execution_count": 100
        }
      ],
      "source": [
        "np.ix_(rows_on, cols_on)"
      ]
    },
    {
      "cell_type": "markdown",
      "metadata": {
        "id": "JxbBgttJ09qo"
      },
      "source": [
        "If you use a boolean array that has the same shape as the `ndarray`, then you get in return a 1D array containing all the values that have `True` at their coordinate. This is generally used along with conditional operators:"
      ]
    },
    {
      "cell_type": "code",
      "execution_count": 101,
      "metadata": {
        "id": "IQ04YaP-09qp",
        "outputId": "9b8f4919-24f4-4325-ad97-3feb12644001",
        "colab": {
          "base_uri": "https://localhost:8080/"
        }
      },
      "outputs": [
        {
          "output_type": "execute_result",
          "data": {
            "text/plain": [
              "array([ 1,  4,  7, 10, 13, 16, 19, 22, 25, 28, 31, 34, 37, 40, 43, 46])"
            ]
          },
          "metadata": {},
          "execution_count": 101
        }
      ],
      "source": [
        "b[b % 3 == 1]"
      ]
    },
    {
      "cell_type": "markdown",
      "metadata": {
        "id": "2PjVVt5c09qq"
      },
      "source": [
        "# Iterating\n",
        "Iterating over `ndarray`s is very similar to iterating over regular python arrays. Note that iterating over multidimensional arrays is done with respect to the first axis."
      ]
    },
    {
      "cell_type": "code",
      "execution_count": 102,
      "metadata": {
        "id": "7sHJOGyy09qr",
        "outputId": "71181ef8-ac56-4251-c218-812ba090bf4c",
        "colab": {
          "base_uri": "https://localhost:8080/"
        }
      },
      "outputs": [
        {
          "output_type": "execute_result",
          "data": {
            "text/plain": [
              "array([[[ 0,  1,  2,  3],\n",
              "        [ 4,  5,  6,  7],\n",
              "        [ 8,  9, 10, 11]],\n",
              "\n",
              "       [[12, 13, 14, 15],\n",
              "        [16, 17, 18, 19],\n",
              "        [20, 21, 22, 23]]])"
            ]
          },
          "metadata": {},
          "execution_count": 102
        }
      ],
      "source": [
        "c = np.arange(24).reshape(2, 3, 4)  # A 3D array (composed of two 3x4 matrices)\n",
        "c"
      ]
    },
    {
      "cell_type": "code",
      "execution_count": 103,
      "metadata": {
        "id": "EOzrBiIH09qs",
        "outputId": "dbe2267a-d2a8-4626-adb8-f5b373d4eecb",
        "colab": {
          "base_uri": "https://localhost:8080/"
        }
      },
      "outputs": [
        {
          "output_type": "stream",
          "name": "stdout",
          "text": [
            "Item:\n",
            "[[ 0  1  2  3]\n",
            " [ 4  5  6  7]\n",
            " [ 8  9 10 11]]\n",
            "Item:\n",
            "[[12 13 14 15]\n",
            " [16 17 18 19]\n",
            " [20 21 22 23]]\n"
          ]
        }
      ],
      "source": [
        "for m in c:\n",
        "    print(\"Item:\")\n",
        "    print(m)"
      ]
    },
    {
      "cell_type": "code",
      "execution_count": 104,
      "metadata": {
        "id": "GIYeA4CU09qt",
        "outputId": "2cd63ad7-a998-4392-c339-801836bfe2ee",
        "colab": {
          "base_uri": "https://localhost:8080/"
        }
      },
      "outputs": [
        {
          "output_type": "stream",
          "name": "stdout",
          "text": [
            "Item:\n",
            "[[ 0  1  2  3]\n",
            " [ 4  5  6  7]\n",
            " [ 8  9 10 11]]\n",
            "Item:\n",
            "[[12 13 14 15]\n",
            " [16 17 18 19]\n",
            " [20 21 22 23]]\n"
          ]
        }
      ],
      "source": [
        "for i in range(len(c)):  # Note that len(c) == c.shape[0]\n",
        "    print(\"Item:\")\n",
        "    print(c[i])"
      ]
    },
    {
      "cell_type": "markdown",
      "metadata": {
        "id": "3B-A6INJ09qu"
      },
      "source": [
        "If you want to iterate on *all* elements in the `ndarray`, simply iterate over the `flat` attribute:"
      ]
    },
    {
      "cell_type": "code",
      "execution_count": 105,
      "metadata": {
        "id": "bwRFWeez09qv",
        "outputId": "30f1a4d8-f912-43e1-e257-7d2bb3b3a47d",
        "colab": {
          "base_uri": "https://localhost:8080/"
        }
      },
      "outputs": [
        {
          "output_type": "stream",
          "name": "stdout",
          "text": [
            "Item: 0\n",
            "Item: 1\n",
            "Item: 2\n",
            "Item: 3\n",
            "Item: 4\n",
            "Item: 5\n",
            "Item: 6\n",
            "Item: 7\n",
            "Item: 8\n",
            "Item: 9\n",
            "Item: 10\n",
            "Item: 11\n",
            "Item: 12\n",
            "Item: 13\n",
            "Item: 14\n",
            "Item: 15\n",
            "Item: 16\n",
            "Item: 17\n",
            "Item: 18\n",
            "Item: 19\n",
            "Item: 20\n",
            "Item: 21\n",
            "Item: 22\n",
            "Item: 23\n"
          ]
        }
      ],
      "source": [
        "for i in c.flat:\n",
        "    print(\"Item:\", i)"
      ]
    },
    {
      "cell_type": "markdown",
      "metadata": {
        "id": "6w-MXLsf09qv"
      },
      "source": [
        "# Stacking arrays\n",
        "It is often useful to stack together different arrays. NumPy offers several functions to do just that. Let's start by creating a few arrays."
      ]
    },
    {
      "cell_type": "code",
      "execution_count": 106,
      "metadata": {
        "id": "AWpJBeCS09qw",
        "outputId": "1aca8c51-587b-445d-cb95-a2389ac632c7",
        "colab": {
          "base_uri": "https://localhost:8080/"
        }
      },
      "outputs": [
        {
          "output_type": "execute_result",
          "data": {
            "text/plain": [
              "array([[1., 1., 1., 1.],\n",
              "       [1., 1., 1., 1.],\n",
              "       [1., 1., 1., 1.]])"
            ]
          },
          "metadata": {},
          "execution_count": 106
        }
      ],
      "source": [
        "q1 = np.full((3,4), 1.0)\n",
        "q1"
      ]
    },
    {
      "cell_type": "code",
      "execution_count": 107,
      "metadata": {
        "id": "SwjsoO3c09qy",
        "outputId": "f1309ed1-8363-456e-9820-87da599961b6",
        "colab": {
          "base_uri": "https://localhost:8080/"
        }
      },
      "outputs": [
        {
          "output_type": "execute_result",
          "data": {
            "text/plain": [
              "array([[2., 2., 2., 2.],\n",
              "       [2., 2., 2., 2.],\n",
              "       [2., 2., 2., 2.],\n",
              "       [2., 2., 2., 2.]])"
            ]
          },
          "metadata": {},
          "execution_count": 107
        }
      ],
      "source": [
        "q2 = np.full((4,4), 2.0)\n",
        "q2"
      ]
    },
    {
      "cell_type": "code",
      "execution_count": 108,
      "metadata": {
        "id": "hdjj1Mf_09q0",
        "outputId": "816d6834-767f-401b-da96-a4254b4d1810",
        "colab": {
          "base_uri": "https://localhost:8080/"
        }
      },
      "outputs": [
        {
          "output_type": "execute_result",
          "data": {
            "text/plain": [
              "array([[3., 3., 3., 3.],\n",
              "       [3., 3., 3., 3.],\n",
              "       [3., 3., 3., 3.]])"
            ]
          },
          "metadata": {},
          "execution_count": 108
        }
      ],
      "source": [
        "q3 = np.full((3,4), 3.0)\n",
        "q3"
      ]
    },
    {
      "cell_type": "markdown",
      "metadata": {
        "id": "6W3VQJsw09q3"
      },
      "source": [
        "## `vstack`\n",
        "Now let's stack them vertically using `vstack`:"
      ]
    },
    {
      "cell_type": "code",
      "execution_count": 109,
      "metadata": {
        "id": "uHwxFgjh09q5",
        "outputId": "3d3aa7a6-6877-44ca-a048-7b137178a936",
        "colab": {
          "base_uri": "https://localhost:8080/"
        }
      },
      "outputs": [
        {
          "output_type": "execute_result",
          "data": {
            "text/plain": [
              "array([[1., 1., 1., 1.],\n",
              "       [1., 1., 1., 1.],\n",
              "       [1., 1., 1., 1.],\n",
              "       [2., 2., 2., 2.],\n",
              "       [2., 2., 2., 2.],\n",
              "       [2., 2., 2., 2.],\n",
              "       [2., 2., 2., 2.],\n",
              "       [3., 3., 3., 3.],\n",
              "       [3., 3., 3., 3.],\n",
              "       [3., 3., 3., 3.]])"
            ]
          },
          "metadata": {},
          "execution_count": 109
        }
      ],
      "source": [
        "q4 = np.vstack((q1, q2, q3))\n",
        "q4"
      ]
    },
    {
      "cell_type": "code",
      "execution_count": 110,
      "metadata": {
        "id": "NGviaomX09q6",
        "outputId": "10d6ebb9-b605-4baa-8a6b-148cb244a473",
        "colab": {
          "base_uri": "https://localhost:8080/"
        }
      },
      "outputs": [
        {
          "output_type": "execute_result",
          "data": {
            "text/plain": [
              "(10, 4)"
            ]
          },
          "metadata": {},
          "execution_count": 110
        }
      ],
      "source": [
        "q4.shape"
      ]
    },
    {
      "cell_type": "markdown",
      "metadata": {
        "id": "uH8QTJSd09rm"
      },
      "source": [
        "This was possible because q1, q2 and q3 all have the same shape (except for the vertical axis, but that's ok since we are stacking on that axis).\n",
        "\n",
        "## `hstack`\n",
        "We can also stack arrays horizontally using `hstack`:"
      ]
    },
    {
      "cell_type": "code",
      "execution_count": 111,
      "metadata": {
        "id": "yGbnTSP209rv",
        "outputId": "03e28948-ffe0-4bc9-bb09-33a31bae7a3b",
        "colab": {
          "base_uri": "https://localhost:8080/"
        }
      },
      "outputs": [
        {
          "output_type": "execute_result",
          "data": {
            "text/plain": [
              "array([[1., 1., 1., 1., 3., 3., 3., 3.],\n",
              "       [1., 1., 1., 1., 3., 3., 3., 3.],\n",
              "       [1., 1., 1., 1., 3., 3., 3., 3.]])"
            ]
          },
          "metadata": {},
          "execution_count": 111
        }
      ],
      "source": [
        "q5 = np.hstack((q1, q3))\n",
        "q5"
      ]
    },
    {
      "cell_type": "code",
      "execution_count": 112,
      "metadata": {
        "id": "t1OBg6jA09rx",
        "outputId": "03ed1470-b7c5-4752-9f97-98ade07aba5e",
        "colab": {
          "base_uri": "https://localhost:8080/"
        }
      },
      "outputs": [
        {
          "output_type": "execute_result",
          "data": {
            "text/plain": [
              "(3, 8)"
            ]
          },
          "metadata": {},
          "execution_count": 112
        }
      ],
      "source": [
        "q5.shape"
      ]
    },
    {
      "cell_type": "markdown",
      "metadata": {
        "id": "3hIjqI8n09sH"
      },
      "source": [
        "This is possible because q1 and q3 both have 3 rows. But since q2 has 4 rows, it cannot be stacked horizontally with q1 and q3:"
      ]
    },
    {
      "cell_type": "code",
      "execution_count": 113,
      "metadata": {
        "id": "DNVU8CKA09sI",
        "outputId": "6bfc4ddf-16ab-4643-abea-c9226f86dffb",
        "colab": {
          "base_uri": "https://localhost:8080/"
        }
      },
      "outputs": [
        {
          "output_type": "stream",
          "name": "stdout",
          "text": [
            "all the input array dimensions for the concatenation axis must match exactly, but along dimension 0, the array at index 0 has size 3 and the array at index 1 has size 4\n"
          ]
        }
      ],
      "source": [
        "try:\n",
        "    q5 = np.hstack((q1, q2, q3))\n",
        "except ValueError as e:\n",
        "    print(e)"
      ]
    },
    {
      "cell_type": "markdown",
      "metadata": {
        "id": "vUQMSwux09sK"
      },
      "source": [
        "## `concatenate`\n",
        "The `concatenate` function stacks arrays along any given existing axis."
      ]
    },
    {
      "cell_type": "code",
      "execution_count": 114,
      "metadata": {
        "id": "TOFLp3IK09sL",
        "outputId": "a4ab7e66-df38-4a46-d508-b49bfc12ecbd",
        "colab": {
          "base_uri": "https://localhost:8080/"
        }
      },
      "outputs": [
        {
          "output_type": "execute_result",
          "data": {
            "text/plain": [
              "array([[1., 1., 1., 1.],\n",
              "       [1., 1., 1., 1.],\n",
              "       [1., 1., 1., 1.],\n",
              "       [2., 2., 2., 2.],\n",
              "       [2., 2., 2., 2.],\n",
              "       [2., 2., 2., 2.],\n",
              "       [2., 2., 2., 2.],\n",
              "       [3., 3., 3., 3.],\n",
              "       [3., 3., 3., 3.],\n",
              "       [3., 3., 3., 3.]])"
            ]
          },
          "metadata": {},
          "execution_count": 114
        }
      ],
      "source": [
        "q7 = np.concatenate((q1, q2, q3), axis=0)  # Equivalent to vstack\n",
        "q7"
      ]
    },
    {
      "cell_type": "code",
      "execution_count": 115,
      "metadata": {
        "id": "1vxAnAkq09sM",
        "outputId": "35e73865-9234-4c42-c7e4-a9aa43326f62",
        "colab": {
          "base_uri": "https://localhost:8080/"
        }
      },
      "outputs": [
        {
          "output_type": "execute_result",
          "data": {
            "text/plain": [
              "(10, 4)"
            ]
          },
          "metadata": {},
          "execution_count": 115
        }
      ],
      "source": [
        "q7.shape"
      ]
    },
    {
      "cell_type": "markdown",
      "metadata": {
        "id": "uTYvSy4d09sN"
      },
      "source": [
        "As you might guess, `hstack` is equivalent to calling `concatenate` with `axis=1`."
      ]
    },
    {
      "cell_type": "markdown",
      "metadata": {
        "id": "yQQQia4B09sO"
      },
      "source": [
        "## `stack`\n",
        "The `stack` function stacks arrays along a new axis. All arrays have to have the same shape."
      ]
    },
    {
      "cell_type": "code",
      "execution_count": 116,
      "metadata": {
        "id": "CFEkHVex09sP",
        "outputId": "afde73e8-7091-4640-c38a-f93ca636cb96",
        "colab": {
          "base_uri": "https://localhost:8080/"
        }
      },
      "outputs": [
        {
          "output_type": "execute_result",
          "data": {
            "text/plain": [
              "array([[[1., 1., 1., 1.],\n",
              "        [1., 1., 1., 1.],\n",
              "        [1., 1., 1., 1.]],\n",
              "\n",
              "       [[3., 3., 3., 3.],\n",
              "        [3., 3., 3., 3.],\n",
              "        [3., 3., 3., 3.]]])"
            ]
          },
          "metadata": {},
          "execution_count": 116
        }
      ],
      "source": [
        "q8 = np.stack((q1, q3))\n",
        "q8"
      ]
    },
    {
      "cell_type": "code",
      "execution_count": 117,
      "metadata": {
        "id": "XlSTRUJA09sQ",
        "outputId": "0a4b4f7b-8fe0-412f-d383-c44bfb1e4a3d",
        "colab": {
          "base_uri": "https://localhost:8080/"
        }
      },
      "outputs": [
        {
          "output_type": "execute_result",
          "data": {
            "text/plain": [
              "(2, 3, 4)"
            ]
          },
          "metadata": {},
          "execution_count": 117
        }
      ],
      "source": [
        "q8.shape"
      ]
    },
    {
      "cell_type": "markdown",
      "metadata": {
        "id": "fj3ag9pS09sW"
      },
      "source": [
        "# Splitting arrays\n",
        "Splitting is the opposite of stacking. For example, let's use the `vsplit` function to split a matrix vertically.\n",
        "\n",
        "First let's create a 6x4 matrix:"
      ]
    },
    {
      "cell_type": "code",
      "execution_count": 118,
      "metadata": {
        "id": "ujFQWII709sX",
        "outputId": "8c81efcc-605b-48cf-cac3-96b0659c6084",
        "colab": {
          "base_uri": "https://localhost:8080/"
        }
      },
      "outputs": [
        {
          "output_type": "execute_result",
          "data": {
            "text/plain": [
              "array([[ 0,  1,  2,  3],\n",
              "       [ 4,  5,  6,  7],\n",
              "       [ 8,  9, 10, 11],\n",
              "       [12, 13, 14, 15],\n",
              "       [16, 17, 18, 19],\n",
              "       [20, 21, 22, 23]])"
            ]
          },
          "metadata": {},
          "execution_count": 118
        }
      ],
      "source": [
        "r = np.arange(24).reshape(6,4)\n",
        "r"
      ]
    },
    {
      "cell_type": "markdown",
      "metadata": {
        "id": "HPvExoru09sZ"
      },
      "source": [
        "Now let's split it in three equal parts, vertically:"
      ]
    },
    {
      "cell_type": "code",
      "execution_count": 119,
      "metadata": {
        "id": "Gp8hbj-S09sg",
        "outputId": "e867c6da-cad3-4a77-a661-edbcac5f4d52",
        "colab": {
          "base_uri": "https://localhost:8080/"
        }
      },
      "outputs": [
        {
          "output_type": "execute_result",
          "data": {
            "text/plain": [
              "array([[0, 1, 2, 3],\n",
              "       [4, 5, 6, 7]])"
            ]
          },
          "metadata": {},
          "execution_count": 119
        }
      ],
      "source": [
        "r1, r2, r3 = np.vsplit(r, 3)\n",
        "r1"
      ]
    },
    {
      "cell_type": "code",
      "execution_count": 120,
      "metadata": {
        "id": "fa_MWk0x09sl",
        "outputId": "35c87dac-d8a2-49a4-c971-753596007daf",
        "colab": {
          "base_uri": "https://localhost:8080/"
        }
      },
      "outputs": [
        {
          "output_type": "execute_result",
          "data": {
            "text/plain": [
              "array([[ 8,  9, 10, 11],\n",
              "       [12, 13, 14, 15]])"
            ]
          },
          "metadata": {},
          "execution_count": 120
        }
      ],
      "source": [
        "r2"
      ]
    },
    {
      "cell_type": "code",
      "execution_count": 121,
      "metadata": {
        "id": "NCzYpjb909sn",
        "outputId": "01e988cf-a3d9-4fee-fce1-28e26de9163d",
        "colab": {
          "base_uri": "https://localhost:8080/"
        }
      },
      "outputs": [
        {
          "output_type": "execute_result",
          "data": {
            "text/plain": [
              "array([[16, 17, 18, 19],\n",
              "       [20, 21, 22, 23]])"
            ]
          },
          "metadata": {},
          "execution_count": 121
        }
      ],
      "source": [
        "r3"
      ]
    },
    {
      "cell_type": "markdown",
      "metadata": {
        "id": "WZqRWvtO09so"
      },
      "source": [
        "There is also a `split` function which splits an array along any given axis. Calling `vsplit` is equivalent to calling `split` with `axis=0`. There is also an `hsplit` function, equivalent to calling `split` with `axis=1`:"
      ]
    },
    {
      "cell_type": "code",
      "execution_count": 122,
      "metadata": {
        "id": "f4G51_7209sp",
        "outputId": "b002ef50-1c8c-4e4e-a4b0-eac716658eab",
        "colab": {
          "base_uri": "https://localhost:8080/"
        }
      },
      "outputs": [
        {
          "output_type": "execute_result",
          "data": {
            "text/plain": [
              "array([[ 0,  1],\n",
              "       [ 4,  5],\n",
              "       [ 8,  9],\n",
              "       [12, 13],\n",
              "       [16, 17],\n",
              "       [20, 21]])"
            ]
          },
          "metadata": {},
          "execution_count": 122
        }
      ],
      "source": [
        "r4, r5 = np.hsplit(r, 2)\n",
        "r4"
      ]
    },
    {
      "cell_type": "code",
      "execution_count": 123,
      "metadata": {
        "id": "mvrq0yP_09st",
        "outputId": "b6fa2afc-287f-478c-f0c0-2e4584892a39",
        "colab": {
          "base_uri": "https://localhost:8080/"
        }
      },
      "outputs": [
        {
          "output_type": "execute_result",
          "data": {
            "text/plain": [
              "array([[ 2,  3],\n",
              "       [ 6,  7],\n",
              "       [10, 11],\n",
              "       [14, 15],\n",
              "       [18, 19],\n",
              "       [22, 23]])"
            ]
          },
          "metadata": {},
          "execution_count": 123
        }
      ],
      "source": [
        "r5"
      ]
    },
    {
      "cell_type": "markdown",
      "metadata": {
        "id": "2VqEwAQC09sw"
      },
      "source": [
        "# Transposing arrays\n",
        "The `transpose` method creates a new view on an `ndarray`'s data, with axes permuted in the given order.\n",
        "\n",
        "For example, let's create a 3D array:"
      ]
    },
    {
      "cell_type": "code",
      "execution_count": 124,
      "metadata": {
        "id": "CN6BhkfT09sy",
        "outputId": "7764afd2-272c-4fa9-952f-bf5df2192c09",
        "colab": {
          "base_uri": "https://localhost:8080/"
        }
      },
      "outputs": [
        {
          "output_type": "execute_result",
          "data": {
            "text/plain": [
              "array([[[ 0,  1,  2],\n",
              "        [ 3,  4,  5]],\n",
              "\n",
              "       [[ 6,  7,  8],\n",
              "        [ 9, 10, 11]],\n",
              "\n",
              "       [[12, 13, 14],\n",
              "        [15, 16, 17]],\n",
              "\n",
              "       [[18, 19, 20],\n",
              "        [21, 22, 23]]])"
            ]
          },
          "metadata": {},
          "execution_count": 124
        }
      ],
      "source": [
        "t = np.arange(24).reshape(4,2,3)\n",
        "t"
      ]
    },
    {
      "cell_type": "markdown",
      "metadata": {
        "id": "_C03hdlV09s0"
      },
      "source": [
        "Now let's create an `ndarray` such that the axes `0, 1, 2` (depth, height, width) are re-ordered to `1, 2, 0` (depth→width, height→depth, width→height):"
      ]
    },
    {
      "cell_type": "code",
      "execution_count": 125,
      "metadata": {
        "id": "QgVaep1v09s1",
        "outputId": "e929a7c8-7553-4322-ae71-ac51608f70c5",
        "colab": {
          "base_uri": "https://localhost:8080/"
        }
      },
      "outputs": [
        {
          "output_type": "execute_result",
          "data": {
            "text/plain": [
              "array([[[ 0,  6, 12, 18],\n",
              "        [ 1,  7, 13, 19],\n",
              "        [ 2,  8, 14, 20]],\n",
              "\n",
              "       [[ 3,  9, 15, 21],\n",
              "        [ 4, 10, 16, 22],\n",
              "        [ 5, 11, 17, 23]]])"
            ]
          },
          "metadata": {},
          "execution_count": 125
        }
      ],
      "source": [
        "t1 = t.transpose((1,2,0))\n",
        "t1"
      ]
    },
    {
      "cell_type": "code",
      "execution_count": 126,
      "metadata": {
        "id": "3JfJKnq209s5",
        "outputId": "9db917d1-013a-4bb8-87c8-9f0e52d8925c",
        "colab": {
          "base_uri": "https://localhost:8080/"
        }
      },
      "outputs": [
        {
          "output_type": "execute_result",
          "data": {
            "text/plain": [
              "(2, 3, 4)"
            ]
          },
          "metadata": {},
          "execution_count": 126
        }
      ],
      "source": [
        "t1.shape"
      ]
    },
    {
      "cell_type": "markdown",
      "metadata": {
        "id": "SVBAS9Io09tg"
      },
      "source": [
        "By default, `transpose` reverses the order of the dimensions:"
      ]
    },
    {
      "cell_type": "code",
      "execution_count": 127,
      "metadata": {
        "id": "ofFfbAp009th",
        "outputId": "33f3b550-157d-4cbf-8691-fb4152ba6acb",
        "colab": {
          "base_uri": "https://localhost:8080/"
        }
      },
      "outputs": [
        {
          "output_type": "execute_result",
          "data": {
            "text/plain": [
              "array([[[ 0,  6, 12, 18],\n",
              "        [ 3,  9, 15, 21]],\n",
              "\n",
              "       [[ 1,  7, 13, 19],\n",
              "        [ 4, 10, 16, 22]],\n",
              "\n",
              "       [[ 2,  8, 14, 20],\n",
              "        [ 5, 11, 17, 23]]])"
            ]
          },
          "metadata": {},
          "execution_count": 127
        }
      ],
      "source": [
        "t2 = t.transpose()  # equivalent to t.transpose((2, 1, 0))\n",
        "t2"
      ]
    },
    {
      "cell_type": "code",
      "execution_count": 128,
      "metadata": {
        "id": "-rewWFlG09tj",
        "outputId": "0bcc0ed6-6874-4271-987b-e143c127adac",
        "colab": {
          "base_uri": "https://localhost:8080/"
        }
      },
      "outputs": [
        {
          "output_type": "execute_result",
          "data": {
            "text/plain": [
              "(3, 2, 4)"
            ]
          },
          "metadata": {},
          "execution_count": 128
        }
      ],
      "source": [
        "t2.shape"
      ]
    },
    {
      "cell_type": "markdown",
      "metadata": {
        "id": "X4HkJbAZ09tk"
      },
      "source": [
        "NumPy provides a convenience function `swapaxes` to swap two axes. For example, let's create a new view of `t` with depth and height swapped:"
      ]
    },
    {
      "cell_type": "code",
      "execution_count": 129,
      "metadata": {
        "id": "fSk3hoLI09tl",
        "outputId": "c8d9f0ea-0638-4899-ddbc-0e9a5a29764f",
        "colab": {
          "base_uri": "https://localhost:8080/"
        }
      },
      "outputs": [
        {
          "output_type": "execute_result",
          "data": {
            "text/plain": [
              "array([[[ 0,  1,  2],\n",
              "        [ 6,  7,  8],\n",
              "        [12, 13, 14],\n",
              "        [18, 19, 20]],\n",
              "\n",
              "       [[ 3,  4,  5],\n",
              "        [ 9, 10, 11],\n",
              "        [15, 16, 17],\n",
              "        [21, 22, 23]]])"
            ]
          },
          "metadata": {},
          "execution_count": 129
        }
      ],
      "source": [
        "t3 = t.swapaxes(0,1)  # equivalent to t.transpose((1, 0, 2))\n",
        "t3"
      ]
    },
    {
      "cell_type": "code",
      "execution_count": 130,
      "metadata": {
        "id": "g-rPTKdG09tw",
        "outputId": "e0d9abe2-7a46-4ce4-85d4-e8db73a127e6",
        "colab": {
          "base_uri": "https://localhost:8080/"
        }
      },
      "outputs": [
        {
          "output_type": "execute_result",
          "data": {
            "text/plain": [
              "(2, 4, 3)"
            ]
          },
          "metadata": {},
          "execution_count": 130
        }
      ],
      "source": [
        "t3.shape"
      ]
    },
    {
      "cell_type": "markdown",
      "metadata": {
        "id": "LTfWHfBe09tx"
      },
      "source": [
        "# Linear algebra\n",
        "NumPy 2D arrays can be used to represent matrices efficiently in python. We will just quickly go through some of the main matrix operations available. For more details about Linear Algebra, vectors and matrics, go through the [Linear Algebra tutorial](math_linear_algebra.ipynb).\n",
        "\n",
        "## Matrix transpose\n",
        "The `T` attribute is equivalent to calling `transpose()` when the rank is ≥2:"
      ]
    },
    {
      "cell_type": "code",
      "execution_count": 131,
      "metadata": {
        "id": "k0bzIiez09ty",
        "outputId": "cf65a63c-44fc-4568-d0f8-458ad6b83839",
        "colab": {
          "base_uri": "https://localhost:8080/"
        }
      },
      "outputs": [
        {
          "output_type": "execute_result",
          "data": {
            "text/plain": [
              "array([[0, 1, 2, 3, 4],\n",
              "       [5, 6, 7, 8, 9]])"
            ]
          },
          "metadata": {},
          "execution_count": 131
        }
      ],
      "source": [
        "m1 = np.arange(10).reshape(2,5)\n",
        "m1"
      ]
    },
    {
      "cell_type": "code",
      "execution_count": 132,
      "metadata": {
        "id": "MsTipR2909tz",
        "outputId": "b9b29005-57a2-4536-8c6b-58f618244786",
        "colab": {
          "base_uri": "https://localhost:8080/"
        }
      },
      "outputs": [
        {
          "output_type": "execute_result",
          "data": {
            "text/plain": [
              "array([[0, 5],\n",
              "       [1, 6],\n",
              "       [2, 7],\n",
              "       [3, 8],\n",
              "       [4, 9]])"
            ]
          },
          "metadata": {},
          "execution_count": 132
        }
      ],
      "source": [
        "m1.T"
      ]
    },
    {
      "cell_type": "markdown",
      "metadata": {
        "id": "J_g3_VlT09t0"
      },
      "source": [
        "The `T` attribute has no effect on rank 0 (empty) or rank 1 arrays:"
      ]
    },
    {
      "cell_type": "code",
      "execution_count": 133,
      "metadata": {
        "scrolled": true,
        "id": "y4hOGDYb09t1",
        "outputId": "aaac177f-50f6-49ee-faf4-36c06197e5ab",
        "colab": {
          "base_uri": "https://localhost:8080/"
        }
      },
      "outputs": [
        {
          "output_type": "execute_result",
          "data": {
            "text/plain": [
              "array([0, 1, 2, 3, 4])"
            ]
          },
          "metadata": {},
          "execution_count": 133
        }
      ],
      "source": [
        "m2 = np.arange(5)\n",
        "m2"
      ]
    },
    {
      "cell_type": "code",
      "execution_count": 134,
      "metadata": {
        "scrolled": true,
        "id": "TZzOZbeL09t2",
        "outputId": "ef8d0e87-aa36-4e1d-bd01-05feb543b792",
        "colab": {
          "base_uri": "https://localhost:8080/"
        }
      },
      "outputs": [
        {
          "output_type": "execute_result",
          "data": {
            "text/plain": [
              "array([0, 1, 2, 3, 4])"
            ]
          },
          "metadata": {},
          "execution_count": 134
        }
      ],
      "source": [
        "m2.T"
      ]
    },
    {
      "cell_type": "markdown",
      "metadata": {
        "id": "I_uckayV09t3"
      },
      "source": [
        "We can get the desired transposition by first reshaping the 1D array to a single-row matrix (2D):"
      ]
    },
    {
      "cell_type": "code",
      "execution_count": 135,
      "metadata": {
        "id": "4raCjMpN09t4",
        "outputId": "7d1352b1-e821-4ff5-b15a-7c7fab7bc311",
        "colab": {
          "base_uri": "https://localhost:8080/"
        }
      },
      "outputs": [
        {
          "output_type": "execute_result",
          "data": {
            "text/plain": [
              "array([[0, 1, 2, 3, 4]])"
            ]
          },
          "metadata": {},
          "execution_count": 135
        }
      ],
      "source": [
        "m2r = m2.reshape(1,5)\n",
        "m2r"
      ]
    },
    {
      "cell_type": "code",
      "execution_count": 136,
      "metadata": {
        "id": "Lx11V9u009t6",
        "outputId": "9d37d95f-643f-47c0-92c3-f6e8530f555a",
        "colab": {
          "base_uri": "https://localhost:8080/"
        }
      },
      "outputs": [
        {
          "output_type": "execute_result",
          "data": {
            "text/plain": [
              "array([[0],\n",
              "       [1],\n",
              "       [2],\n",
              "       [3],\n",
              "       [4]])"
            ]
          },
          "metadata": {},
          "execution_count": 136
        }
      ],
      "source": [
        "m2r.T"
      ]
    },
    {
      "cell_type": "markdown",
      "metadata": {
        "id": "4PrJUFlD09t7"
      },
      "source": [
        "## Matrix multiplication\n",
        "Let's create two matrices and execute a [matrix multiplication](https://en.wikipedia.org/wiki/Matrix_multiplication) using the `dot()` method."
      ]
    },
    {
      "cell_type": "code",
      "execution_count": 137,
      "metadata": {
        "id": "OiU-Rb4r09t8",
        "outputId": "1f8b919e-ffb5-4794-b2af-0a0eb6c2ec4b",
        "colab": {
          "base_uri": "https://localhost:8080/"
        }
      },
      "outputs": [
        {
          "output_type": "execute_result",
          "data": {
            "text/plain": [
              "array([[0, 1, 2, 3, 4],\n",
              "       [5, 6, 7, 8, 9]])"
            ]
          },
          "metadata": {},
          "execution_count": 137
        }
      ],
      "source": [
        "n1 = np.arange(10).reshape(2, 5)\n",
        "n1"
      ]
    },
    {
      "cell_type": "code",
      "execution_count": 138,
      "metadata": {
        "id": "3w89jNYl09t-",
        "outputId": "56a3ef01-f2fe-4201-8804-b8f27d718262",
        "colab": {
          "base_uri": "https://localhost:8080/"
        }
      },
      "outputs": [
        {
          "output_type": "execute_result",
          "data": {
            "text/plain": [
              "array([[ 0,  1,  2],\n",
              "       [ 3,  4,  5],\n",
              "       [ 6,  7,  8],\n",
              "       [ 9, 10, 11],\n",
              "       [12, 13, 14]])"
            ]
          },
          "metadata": {},
          "execution_count": 138
        }
      ],
      "source": [
        "n2 = np.arange(15).reshape(5,3)\n",
        "n2"
      ]
    },
    {
      "cell_type": "code",
      "execution_count": 139,
      "metadata": {
        "id": "HgBeTZkq09uA",
        "outputId": "3de82c19-d5e6-4f57-d4fc-e9d1239b3da7",
        "colab": {
          "base_uri": "https://localhost:8080/"
        }
      },
      "outputs": [
        {
          "output_type": "execute_result",
          "data": {
            "text/plain": [
              "array([[ 90, 100, 110],\n",
              "       [240, 275, 310]])"
            ]
          },
          "metadata": {},
          "execution_count": 139
        }
      ],
      "source": [
        "n1.dot(n2)"
      ]
    },
    {
      "cell_type": "markdown",
      "metadata": {
        "id": "Pp3tN1fS09uB"
      },
      "source": [
        "**Caution**: as mentionned previously, `n1*n2` is *not* a matric multiplication, it is an elementwise product (also called a [Hadamard product](https://en.wikipedia.org/wiki/Hadamard_product_(matrices)))."
      ]
    },
    {
      "cell_type": "markdown",
      "metadata": {
        "id": "XjAVW1JN09uC"
      },
      "source": [
        "## Matrix inverse and pseudo-inverse\n",
        "Many of the linear algebra functions are available in the `numpy.linalg` module, in particular the `inv` function to compute a square matrix's inverse:"
      ]
    },
    {
      "cell_type": "code",
      "execution_count": 140,
      "metadata": {
        "id": "XKPsMD_309uD",
        "outputId": "af812afb-c0ab-4124-db9c-7ad89482d812",
        "colab": {
          "base_uri": "https://localhost:8080/"
        }
      },
      "outputs": [
        {
          "output_type": "execute_result",
          "data": {
            "text/plain": [
              "array([[ 1,  2,  3],\n",
              "       [ 5,  7, 11],\n",
              "       [21, 29, 31]])"
            ]
          },
          "metadata": {},
          "execution_count": 140
        }
      ],
      "source": [
        "import numpy.linalg as linalg\n",
        "\n",
        "m3 = np.array([[1,2,3],[5,7,11],[21,29,31]])\n",
        "m3"
      ]
    },
    {
      "cell_type": "code",
      "execution_count": 141,
      "metadata": {
        "id": "oa17OEqA09uE",
        "outputId": "cdc06521-2985-4657-9e0f-e0bd2d57b7ef",
        "colab": {
          "base_uri": "https://localhost:8080/"
        }
      },
      "outputs": [
        {
          "output_type": "execute_result",
          "data": {
            "text/plain": [
              "array([[-2.31818182,  0.56818182,  0.02272727],\n",
              "       [ 1.72727273, -0.72727273,  0.09090909],\n",
              "       [-0.04545455,  0.29545455, -0.06818182]])"
            ]
          },
          "metadata": {},
          "execution_count": 141
        }
      ],
      "source": [
        "linalg.inv(m3)"
      ]
    },
    {
      "cell_type": "markdown",
      "metadata": {
        "id": "VcCF1zVf09uF"
      },
      "source": [
        "You can also compute the [pseudoinverse](https://en.wikipedia.org/wiki/Moore%E2%80%93Penrose_pseudoinverse) using `pinv`:"
      ]
    },
    {
      "cell_type": "code",
      "execution_count": 142,
      "metadata": {
        "id": "xx1llKUi09uG",
        "outputId": "184d0bcb-8345-4d1b-be03-6f82f8fdf7f0",
        "colab": {
          "base_uri": "https://localhost:8080/"
        }
      },
      "outputs": [
        {
          "output_type": "execute_result",
          "data": {
            "text/plain": [
              "array([[-2.31818182,  0.56818182,  0.02272727],\n",
              "       [ 1.72727273, -0.72727273,  0.09090909],\n",
              "       [-0.04545455,  0.29545455, -0.06818182]])"
            ]
          },
          "metadata": {},
          "execution_count": 142
        }
      ],
      "source": [
        "linalg.pinv(m3)"
      ]
    },
    {
      "cell_type": "markdown",
      "metadata": {
        "id": "3kHcp4cW09uG"
      },
      "source": [
        "## Identity matrix\n",
        "The product of a matrix by its inverse returns the identiy matrix (with small floating point errors):"
      ]
    },
    {
      "cell_type": "code",
      "execution_count": 143,
      "metadata": {
        "id": "31UYitNE09uH",
        "outputId": "26268f59-4099-4972-fdbb-b7a996676cb7",
        "colab": {
          "base_uri": "https://localhost:8080/"
        }
      },
      "outputs": [
        {
          "output_type": "execute_result",
          "data": {
            "text/plain": [
              "array([[ 1.00000000e+00, -1.66533454e-16,  0.00000000e+00],\n",
              "       [ 6.31439345e-16,  1.00000000e+00, -1.38777878e-16],\n",
              "       [ 5.21110932e-15, -2.38697950e-15,  1.00000000e+00]])"
            ]
          },
          "metadata": {},
          "execution_count": 143
        }
      ],
      "source": [
        "m3.dot(linalg.inv(m3))"
      ]
    },
    {
      "cell_type": "markdown",
      "metadata": {
        "id": "SLXl_P1W09uI"
      },
      "source": [
        "You can create an identity matrix of size NxN by calling `eye`:"
      ]
    },
    {
      "cell_type": "code",
      "execution_count": 144,
      "metadata": {
        "id": "U3XjmfQA09uJ",
        "outputId": "57d15b5e-b270-4f15-8541-3bf47495ce06",
        "colab": {
          "base_uri": "https://localhost:8080/"
        }
      },
      "outputs": [
        {
          "output_type": "execute_result",
          "data": {
            "text/plain": [
              "array([[1., 0., 0.],\n",
              "       [0., 1., 0.],\n",
              "       [0., 0., 1.]])"
            ]
          },
          "metadata": {},
          "execution_count": 144
        }
      ],
      "source": [
        "np.eye(3)"
      ]
    },
    {
      "cell_type": "markdown",
      "metadata": {
        "id": "CTquxSO809uK"
      },
      "source": [
        "## QR decomposition\n",
        "The `qr` function computes the [QR decomposition](https://en.wikipedia.org/wiki/QR_decomposition) of a matrix:"
      ]
    },
    {
      "cell_type": "code",
      "execution_count": 145,
      "metadata": {
        "id": "089CEJJ409uO",
        "outputId": "a9e2c10d-9069-44fe-e42f-987cf791231f",
        "colab": {
          "base_uri": "https://localhost:8080/"
        }
      },
      "outputs": [
        {
          "output_type": "execute_result",
          "data": {
            "text/plain": [
              "array([[-0.04627448,  0.98786672,  0.14824986],\n",
              "       [-0.23137241,  0.13377362, -0.96362411],\n",
              "       [-0.97176411, -0.07889213,  0.22237479]])"
            ]
          },
          "metadata": {},
          "execution_count": 145
        }
      ],
      "source": [
        "q, r = linalg.qr(m3)\n",
        "q"
      ]
    },
    {
      "cell_type": "code",
      "execution_count": 146,
      "metadata": {
        "id": "d7HLj8u609uQ",
        "outputId": "ccaac42a-5054-4d83-d0e1-f625eaf9f873",
        "colab": {
          "base_uri": "https://localhost:8080/"
        }
      },
      "outputs": [
        {
          "output_type": "execute_result",
          "data": {
            "text/plain": [
              "array([[-21.61018278, -29.89331494, -32.80860727],\n",
              "       [  0.        ,   0.62427688,   1.9894538 ],\n",
              "       [  0.        ,   0.        ,  -3.26149699]])"
            ]
          },
          "metadata": {},
          "execution_count": 146
        }
      ],
      "source": [
        "r"
      ]
    },
    {
      "cell_type": "code",
      "execution_count": 147,
      "metadata": {
        "id": "ahaOOo4409uW",
        "outputId": "62d559d7-9b92-44b9-854a-53adff83f4b2",
        "colab": {
          "base_uri": "https://localhost:8080/"
        }
      },
      "outputs": [
        {
          "output_type": "execute_result",
          "data": {
            "text/plain": [
              "array([[ 1.,  2.,  3.],\n",
              "       [ 5.,  7., 11.],\n",
              "       [21., 29., 31.]])"
            ]
          },
          "metadata": {},
          "execution_count": 147
        }
      ],
      "source": [
        "q.dot(r)  # q.r equals m3"
      ]
    },
    {
      "cell_type": "markdown",
      "metadata": {
        "id": "_un4QZQI09uX"
      },
      "source": [
        "## Determinant\n",
        "The `det` function computes the [matrix determinant](https://en.wikipedia.org/wiki/Determinant):"
      ]
    },
    {
      "cell_type": "code",
      "execution_count": 148,
      "metadata": {
        "id": "L-vTYozm09uY",
        "outputId": "7daea403-d0ce-4984-9458-4b395cc6a404",
        "colab": {
          "base_uri": "https://localhost:8080/"
        }
      },
      "outputs": [
        {
          "output_type": "execute_result",
          "data": {
            "text/plain": [
              "43.99999999999997"
            ]
          },
          "metadata": {},
          "execution_count": 148
        }
      ],
      "source": [
        "linalg.det(m3)  # Computes the matrix determinant"
      ]
    },
    {
      "cell_type": "markdown",
      "metadata": {
        "id": "CekBMK9E09uZ"
      },
      "source": [
        "## Eigenvalues and eigenvectors\n",
        "The `eig` function computes the [eigenvalues and eigenvectors](https://en.wikipedia.org/wiki/Eigenvalues_and_eigenvectors) of a square matrix:"
      ]
    },
    {
      "cell_type": "code",
      "execution_count": 149,
      "metadata": {
        "id": "HZmM9AaI09ua",
        "outputId": "ab21b60b-2e7e-4b43-e251-34f7abc88246",
        "colab": {
          "base_uri": "https://localhost:8080/"
        }
      },
      "outputs": [
        {
          "output_type": "execute_result",
          "data": {
            "text/plain": [
              "array([42.26600592, -0.35798416, -2.90802176])"
            ]
          },
          "metadata": {},
          "execution_count": 149
        }
      ],
      "source": [
        "eigenvalues, eigenvectors = linalg.eig(m3)\n",
        "eigenvalues # λ"
      ]
    },
    {
      "cell_type": "code",
      "execution_count": 150,
      "metadata": {
        "id": "eahI9JZX09ub",
        "outputId": "00d8eeb4-2348-4621-e0d8-3b2661a534a0",
        "colab": {
          "base_uri": "https://localhost:8080/"
        }
      },
      "outputs": [
        {
          "output_type": "execute_result",
          "data": {
            "text/plain": [
              "array([[-0.08381182, -0.76283526, -0.18913107],\n",
              "       [-0.3075286 ,  0.64133975, -0.6853186 ],\n",
              "       [-0.94784057, -0.08225377,  0.70325518]])"
            ]
          },
          "metadata": {},
          "execution_count": 150
        }
      ],
      "source": [
        "eigenvectors # v"
      ]
    },
    {
      "cell_type": "code",
      "execution_count": 151,
      "metadata": {
        "id": "j7IUXmLQ09uc",
        "outputId": "59ca6faf-429d-4b2b-d1f7-0547fbaee503",
        "colab": {
          "base_uri": "https://localhost:8080/"
        }
      },
      "outputs": [
        {
          "output_type": "execute_result",
          "data": {
            "text/plain": [
              "array([[ 6.21724894e-15,  1.66533454e-15, -3.10862447e-15],\n",
              "       [ 3.55271368e-15,  5.30131494e-15, -5.32907052e-15],\n",
              "       [ 3.55271368e-14,  5.38458167e-15, -9.76996262e-15]])"
            ]
          },
          "metadata": {},
          "execution_count": 151
        }
      ],
      "source": [
        "m3.dot(eigenvectors) - eigenvalues * eigenvectors  # m3.v - λ*v = 0"
      ]
    },
    {
      "cell_type": "markdown",
      "metadata": {
        "id": "89pfvTvf09ui"
      },
      "source": [
        "## Singular Value Decomposition\n",
        "The `svd` function takes a matrix and returns its [singular value decomposition](https://en.wikipedia.org/wiki/Singular_value_decomposition):"
      ]
    },
    {
      "cell_type": "code",
      "execution_count": 152,
      "metadata": {
        "id": "e0RRGJMb09ul",
        "outputId": "a6a8d7fb-fc97-4592-8e07-7b16821bf864",
        "colab": {
          "base_uri": "https://localhost:8080/"
        }
      },
      "outputs": [
        {
          "output_type": "execute_result",
          "data": {
            "text/plain": [
              "array([[1, 0, 0, 0, 2],\n",
              "       [0, 0, 3, 0, 0],\n",
              "       [0, 0, 0, 0, 0],\n",
              "       [0, 2, 0, 0, 0]])"
            ]
          },
          "metadata": {},
          "execution_count": 152
        }
      ],
      "source": [
        "m4 = np.array([[1,0,0,0,2], [0,0,3,0,0], [0,0,0,0,0], [0,2,0,0,0]])\n",
        "m4"
      ]
    },
    {
      "cell_type": "code",
      "execution_count": 153,
      "metadata": {
        "id": "vtm_VjeX09uu",
        "outputId": "25b85a7c-e870-4cc9-948d-3a7e847a584d",
        "colab": {
          "base_uri": "https://localhost:8080/"
        }
      },
      "outputs": [
        {
          "output_type": "execute_result",
          "data": {
            "text/plain": [
              "array([[ 0.,  1.,  0.,  0.],\n",
              "       [ 1.,  0.,  0.,  0.],\n",
              "       [ 0.,  0.,  0., -1.],\n",
              "       [ 0.,  0.,  1.,  0.]])"
            ]
          },
          "metadata": {},
          "execution_count": 153
        }
      ],
      "source": [
        "U, S_diag, V = linalg.svd(m4)\n",
        "U"
      ]
    },
    {
      "cell_type": "code",
      "execution_count": 154,
      "metadata": {
        "id": "DKG-R3cY09uw",
        "outputId": "d41facc5-7f13-4521-c5c0-58417172ce8e",
        "colab": {
          "base_uri": "https://localhost:8080/"
        }
      },
      "outputs": [
        {
          "output_type": "execute_result",
          "data": {
            "text/plain": [
              "array([3.        , 2.23606798, 2.        , 0.        ])"
            ]
          },
          "metadata": {},
          "execution_count": 154
        }
      ],
      "source": [
        "S_diag"
      ]
    },
    {
      "cell_type": "markdown",
      "metadata": {
        "id": "65fPnODo09uy"
      },
      "source": [
        "The `svd` function just returns the values in the diagonal of Σ, but we want the full Σ matrix, so let's create it:"
      ]
    },
    {
      "cell_type": "code",
      "execution_count": 155,
      "metadata": {
        "id": "DtxXAC9z09uz",
        "outputId": "d2242787-faff-4e26-e4e9-cb5b7d0e5a14",
        "colab": {
          "base_uri": "https://localhost:8080/"
        }
      },
      "outputs": [
        {
          "output_type": "execute_result",
          "data": {
            "text/plain": [
              "array([[3.        , 0.        , 0.        , 0.        , 0.        ],\n",
              "       [0.        , 2.23606798, 0.        , 0.        , 0.        ],\n",
              "       [0.        , 0.        , 2.        , 0.        , 0.        ],\n",
              "       [0.        , 0.        , 0.        , 0.        , 0.        ]])"
            ]
          },
          "metadata": {},
          "execution_count": 155
        }
      ],
      "source": [
        "S = np.zeros((4, 5))\n",
        "S[np.diag_indices(4)] = S_diag\n",
        "S  # Σ"
      ]
    },
    {
      "cell_type": "code",
      "execution_count": 156,
      "metadata": {
        "id": "dTTTTvTS09u1",
        "outputId": "76ffebd6-4262-4e48-9f5f-e00efc462ce0",
        "colab": {
          "base_uri": "https://localhost:8080/"
        }
      },
      "outputs": [
        {
          "output_type": "execute_result",
          "data": {
            "text/plain": [
              "array([[-0.        ,  0.        ,  1.        , -0.        ,  0.        ],\n",
              "       [ 0.4472136 ,  0.        ,  0.        ,  0.        ,  0.89442719],\n",
              "       [-0.        ,  1.        ,  0.        , -0.        ,  0.        ],\n",
              "       [ 0.        ,  0.        ,  0.        ,  1.        ,  0.        ],\n",
              "       [-0.89442719,  0.        ,  0.        ,  0.        ,  0.4472136 ]])"
            ]
          },
          "metadata": {},
          "execution_count": 156
        }
      ],
      "source": [
        "V"
      ]
    },
    {
      "cell_type": "code",
      "execution_count": 157,
      "metadata": {
        "id": "wW9euzSY09u5",
        "outputId": "54b7fe92-b4a3-4f5c-822d-1e0b2fbd86b7",
        "colab": {
          "base_uri": "https://localhost:8080/"
        }
      },
      "outputs": [
        {
          "output_type": "execute_result",
          "data": {
            "text/plain": [
              "array([[1., 0., 0., 0., 2.],\n",
              "       [0., 0., 3., 0., 0.],\n",
              "       [0., 0., 0., 0., 0.],\n",
              "       [0., 2., 0., 0., 0.]])"
            ]
          },
          "metadata": {},
          "execution_count": 157
        }
      ],
      "source": [
        "U.dot(S).dot(V) # U.Σ.V == m4"
      ]
    },
    {
      "cell_type": "markdown",
      "metadata": {
        "id": "TnjhCfo-09u6"
      },
      "source": [
        "## Diagonal and trace"
      ]
    },
    {
      "cell_type": "code",
      "execution_count": 158,
      "metadata": {
        "id": "sXDJmrRv09u7",
        "outputId": "32048c03-d994-427d-9735-7e6519369356",
        "colab": {
          "base_uri": "https://localhost:8080/"
        }
      },
      "outputs": [
        {
          "output_type": "execute_result",
          "data": {
            "text/plain": [
              "array([ 1,  7, 31])"
            ]
          },
          "metadata": {},
          "execution_count": 158
        }
      ],
      "source": [
        "np.diag(m3)  # the values in the diagonal of m3 (top left to bottom right)"
      ]
    },
    {
      "cell_type": "code",
      "execution_count": 159,
      "metadata": {
        "id": "UNSd_qAe09u7",
        "outputId": "2a6e0cf0-05b4-46c1-e1d1-f039c1c85949",
        "colab": {
          "base_uri": "https://localhost:8080/"
        }
      },
      "outputs": [
        {
          "output_type": "execute_result",
          "data": {
            "text/plain": [
              "39"
            ]
          },
          "metadata": {},
          "execution_count": 159
        }
      ],
      "source": [
        "m3.trace()  # equivalent to np.diag(m3).sum()"
      ]
    },
    {
      "cell_type": "markdown",
      "metadata": {
        "id": "2TeO3gP609u8"
      },
      "source": [
        "## Solving a system of linear scalar equations"
      ]
    },
    {
      "cell_type": "markdown",
      "metadata": {
        "id": "8L7vhzlY09u9"
      },
      "source": [
        "The `solve` function solves a system of linear scalar equations, such as:\n",
        "\n",
        "* $2x + 6y = 6$\n",
        "* $5x + 3y = -9$"
      ]
    },
    {
      "cell_type": "code",
      "execution_count": 160,
      "metadata": {
        "id": "0R96q76Z09u_",
        "outputId": "2126fa15-bbb0-45db-af3e-997a7c40de0a",
        "colab": {
          "base_uri": "https://localhost:8080/"
        }
      },
      "outputs": [
        {
          "output_type": "execute_result",
          "data": {
            "text/plain": [
              "array([-3.,  2.])"
            ]
          },
          "metadata": {},
          "execution_count": 160
        }
      ],
      "source": [
        "coeffs  = np.array([[2, 6], [5, 3]])\n",
        "depvars = np.array([6, -9])\n",
        "solution = linalg.solve(coeffs, depvars)\n",
        "solution"
      ]
    },
    {
      "cell_type": "markdown",
      "metadata": {
        "id": "m0qg5ft809vA"
      },
      "source": [
        "Let's check the solution:"
      ]
    },
    {
      "cell_type": "code",
      "execution_count": 161,
      "metadata": {
        "id": "EqYAxoFp09vB",
        "outputId": "bba6df87-335f-4c14-b644-d479f714ec5f",
        "colab": {
          "base_uri": "https://localhost:8080/"
        }
      },
      "outputs": [
        {
          "output_type": "execute_result",
          "data": {
            "text/plain": [
              "(array([ 6., -9.]), array([ 6, -9]))"
            ]
          },
          "metadata": {},
          "execution_count": 161
        }
      ],
      "source": [
        "coeffs.dot(solution), depvars  # yep, it's the same"
      ]
    },
    {
      "cell_type": "markdown",
      "metadata": {
        "id": "guRZ7JBI09vD"
      },
      "source": [
        "Looks good! Another way to check the solution:"
      ]
    },
    {
      "cell_type": "code",
      "execution_count": 162,
      "metadata": {
        "scrolled": true,
        "id": "BXTo0ZKy09vE",
        "outputId": "99555727-2806-4e4d-8738-bb6be20cb4a6",
        "colab": {
          "base_uri": "https://localhost:8080/"
        }
      },
      "outputs": [
        {
          "output_type": "execute_result",
          "data": {
            "text/plain": [
              "True"
            ]
          },
          "metadata": {},
          "execution_count": 162
        }
      ],
      "source": [
        "np.allclose(coeffs.dot(solution), depvars)"
      ]
    },
    {
      "cell_type": "markdown",
      "metadata": {
        "id": "bS7vW52A09vF"
      },
      "source": [
        "# Vectorization\n",
        "Instead of executing operations on individual array items, one at a time, your code is much more efficient if you try to stick to array operations. This is called *vectorization*. This way, you can benefit from NumPy's many optimizations.\n",
        "\n",
        "For example, let's say we want to generate a 768x1024 array based on the formula $sin(xy/40.5)$. A **bad** option would be to do the math in python using nested loops:"
      ]
    },
    {
      "cell_type": "code",
      "execution_count": 163,
      "metadata": {
        "id": "sHXJ0vrS09vG"
      },
      "outputs": [],
      "source": [
        "import math\n",
        "\n",
        "data = np.empty((768, 1024))\n",
        "for y in range(768):\n",
        "    for x in range(1024):\n",
        "        data[y, x] = math.sin(x * y / 40.5)  # BAD! Very inefficient."
      ]
    },
    {
      "cell_type": "markdown",
      "metadata": {
        "id": "dXcESGJs09vH"
      },
      "source": [
        "Sure, this works, but it's terribly inefficient since the loops are taking place in pure python. Let's vectorize this algorithm. First, we will use NumPy's `meshgrid` function which generates coordinate matrices from coordinate vectors."
      ]
    },
    {
      "cell_type": "code",
      "execution_count": 164,
      "metadata": {
        "id": "-XOrRKul09vI",
        "outputId": "482b87b6-7d92-4e80-cba1-89a8c51b23ef",
        "colab": {
          "base_uri": "https://localhost:8080/"
        }
      },
      "outputs": [
        {
          "output_type": "execute_result",
          "data": {
            "text/plain": [
              "array([[   0,    1,    2, ..., 1021, 1022, 1023],\n",
              "       [   0,    1,    2, ..., 1021, 1022, 1023],\n",
              "       [   0,    1,    2, ..., 1021, 1022, 1023],\n",
              "       ...,\n",
              "       [   0,    1,    2, ..., 1021, 1022, 1023],\n",
              "       [   0,    1,    2, ..., 1021, 1022, 1023],\n",
              "       [   0,    1,    2, ..., 1021, 1022, 1023]])"
            ]
          },
          "metadata": {},
          "execution_count": 164
        }
      ],
      "source": [
        "x_coords = np.arange(0, 1024)  # [0, 1, 2, ..., 1023]\n",
        "y_coords = np.arange(0, 768)   # [0, 1, 2, ..., 767]\n",
        "X, Y = np.meshgrid(x_coords, y_coords)\n",
        "X"
      ]
    },
    {
      "cell_type": "code",
      "execution_count": 165,
      "metadata": {
        "id": "1Z5poynK09vJ",
        "outputId": "c004f030-9f44-431c-de69-41062939abea",
        "colab": {
          "base_uri": "https://localhost:8080/"
        }
      },
      "outputs": [
        {
          "output_type": "execute_result",
          "data": {
            "text/plain": [
              "array([[  0,   0,   0, ...,   0,   0,   0],\n",
              "       [  1,   1,   1, ...,   1,   1,   1],\n",
              "       [  2,   2,   2, ...,   2,   2,   2],\n",
              "       ...,\n",
              "       [765, 765, 765, ..., 765, 765, 765],\n",
              "       [766, 766, 766, ..., 766, 766, 766],\n",
              "       [767, 767, 767, ..., 767, 767, 767]])"
            ]
          },
          "metadata": {},
          "execution_count": 165
        }
      ],
      "source": [
        "Y"
      ]
    },
    {
      "cell_type": "markdown",
      "metadata": {
        "id": "RA0K7z_O09vK"
      },
      "source": [
        "As you can see, both `X` and `Y` are 768x1024 arrays, and all values in `X` correspond to the horizontal coordinate, while all values in `Y` correspond to the the vertical coordinate.\n",
        "\n",
        "Now we can simply compute the result using array operations:"
      ]
    },
    {
      "cell_type": "code",
      "execution_count": 166,
      "metadata": {
        "id": "NcIIjuyb09vK"
      },
      "outputs": [],
      "source": [
        "data = np.sin(X * Y / 40.5)"
      ]
    },
    {
      "cell_type": "markdown",
      "metadata": {
        "id": "nJUrwFQJ09vL"
      },
      "source": [
        "Now we can plot this data using matplotlib's `imshow` function (see the [matplotlib tutorial](tools_matplotlib.ipynb))."
      ]
    },
    {
      "cell_type": "code",
      "execution_count": 167,
      "metadata": {
        "id": "RQD13NrC09vc",
        "outputId": "e71cbed2-aad2-4b8b-a6f8-a2671ba61848",
        "colab": {
          "base_uri": "https://localhost:8080/",
          "height": 345
        }
      },
      "outputs": [
        {
          "output_type": "display_data",
          "data": {
            "text/plain": [
              "<Figure size 504x432 with 1 Axes>"
            ],
            "image/png": "[encoded data removed]"
          },
          "metadata": {
            "needs_background": "light"
          }
        }
      ],
      "source": [
        "import matplotlib.pyplot as plt\n",
        "import matplotlib.cm as cm\n",
        "\n",
        "fig = plt.figure(1, figsize=(7, 6))\n",
        "plt.imshow(data, cmap=\"hot\")\n",
        "plt.show()"
      ]
    },
    {
      "cell_type": "markdown",
      "metadata": {
        "id": "pI-0V83209ve"
      },
      "source": [
        "# Saving and loading\n",
        "NumPy makes it easy to save and load `ndarray`s in binary or text format.\n",
        "\n",
        "## Binary `.npy` format\n",
        "Let's create a random array and save it."
      ]
    },
    {
      "cell_type": "code",
      "execution_count": 168,
      "metadata": {
        "scrolled": true,
        "id": "dHsWHeYT09ve",
        "outputId": "7ee97d65-2847-4f5e-efe1-f1c4884be50a",
        "colab": {
          "base_uri": "https://localhost:8080/"
        }
      },
      "outputs": [
        {
          "output_type": "execute_result",
          "data": {
            "text/plain": [
              "array([[0.13406837, 0.2802685 , 0.50901297],\n",
              "       [0.35451025, 0.13500455, 0.85748033]])"
            ]
          },
          "metadata": {},
          "execution_count": 168
        }
      ],
      "source": [
        "a = np.random.rand(2,3)\n",
        "a"
      ]
    },
    {
      "cell_type": "code",
      "execution_count": 169,
      "metadata": {
        "id": "ThoGpMQn09vf"
      },
      "outputs": [],
      "source": [
        "np.save(\"my_array\", a)"
      ]
    },
    {
      "cell_type": "markdown",
      "metadata": {
        "id": "IQI4V7be09vg"
      },
      "source": [
        "Done! Since the file name contains no file extension was provided, NumPy automatically added `.npy`. Let's take a peek at the file content:"
      ]
    },
    {
      "cell_type": "code",
      "execution_count": 170,
      "metadata": {
        "id": "8cQQC8t-09vh",
        "outputId": "25b19978-1ebc-4780-e5d5-98b64a0bcf8a",
        "colab": {
          "base_uri": "https://localhost:8080/"
        }
      },
      "outputs": [
        {
          "output_type": "execute_result",
          "data": {
            "text/plain": [
              "b\"\\x93NUMPY\\x01\\x00v\\x00{'descr': '<f8', 'fortran_order': False, 'shape': (2, 3), }                                                          \\nT\\xda\\r\\xff&)\\xc1?`\\x18\\x02M\\xeb\\xef\\xd1?\\x8a\\x02Q\\x91\\xd5I\\xe0?\\x061*\\xc7K\\xb0\\xd6?\\x08=\\x85@\\xd4G\\xc1?\\r6\\\\\\x98zp\\xeb?\""
            ]
          },
          "metadata": {},
          "execution_count": 170
        }
      ],
      "source": [
        "with open(\"my_array.npy\", \"rb\") as f:\n",
        "    content = f.read()\n",
        "\n",
        "content"
      ]
    },
    {
      "cell_type": "markdown",
      "metadata": {
        "id": "ybb0UZ5709vj"
      },
      "source": [
        "To load this file into a NumPy array, simply call `load`:"
      ]
    },
    {
      "cell_type": "code",
      "execution_count": 171,
      "metadata": {
        "id": "qFX8U8Fo09vk",
        "outputId": "31aa51fb-536c-4396-dda2-86ea4c101fa0",
        "colab": {
          "base_uri": "https://localhost:8080/"
        }
      },
      "outputs": [
        {
          "output_type": "execute_result",
          "data": {
            "text/plain": [
              "array([[0.13406837, 0.2802685 , 0.50901297],\n",
              "       [0.35451025, 0.13500455, 0.85748033]])"
            ]
          },
          "metadata": {},
          "execution_count": 171
        }
      ],
      "source": [
        "a_loaded = np.load(\"my_array.npy\")\n",
        "a_loaded"
      ]
    },
    {
      "cell_type": "markdown",
      "metadata": {
        "id": "NTFzgr0A09vl"
      },
      "source": [
        "## Text format\n",
        "Let's try saving the array in text format:"
      ]
    },
    {
      "cell_type": "code",
      "execution_count": 172,
      "metadata": {
        "id": "W8gRlBoC09vm"
      },
      "outputs": [],
      "source": [
        "np.savetxt(\"my_array.csv\", a)"
      ]
    },
    {
      "cell_type": "markdown",
      "metadata": {
        "id": "weUqKGns09vn"
      },
      "source": [
        "Now let's look at the file content:"
      ]
    },
    {
      "cell_type": "code",
      "execution_count": 173,
      "metadata": {
        "id": "ZYGiMTDN09vo",
        "outputId": "eb51216e-81a1-43b9-84ce-794851cdb078",
        "colab": {
          "base_uri": "https://localhost:8080/"
        }
      },
      "outputs": [
        {
          "output_type": "stream",
          "name": "stdout",
          "text": [
            "1.340683694249543700e-01 2.802685024292994598e-01 5.090129698001686354e-01\n",
            "3.545102543801167405e-01 1.350045504609413971e-01 8.574803329262877805e-01\n",
            "\n"
          ]
        }
      ],
      "source": [
        "with open(\"my_array.csv\", \"rt\") as f:\n",
        "    print(f.read())"
      ]
    },
    {
      "cell_type": "markdown",
      "metadata": {
        "id": "RRvfd5A609vq"
      },
      "source": [
        "This is a CSV file with tabs as delimiters. You can set a different delimiter:"
      ]
    },
    {
      "cell_type": "code",
      "execution_count": 174,
      "metadata": {
        "id": "gQveEFm709vr"
      },
      "outputs": [],
      "source": [
        "np.savetxt(\"my_array.csv\", a, delimiter=\",\")"
      ]
    },
    {
      "cell_type": "markdown",
      "metadata": {
        "id": "_qH_Gjgq09vs"
      },
      "source": [
        "To load this file, just use `loadtxt`:"
      ]
    },
    {
      "cell_type": "code",
      "execution_count": 175,
      "metadata": {
        "id": "WxGsP1oT09vt",
        "outputId": "0ad72372-e98a-4e50-c5c5-6a58f0c7f957",
        "colab": {
          "base_uri": "https://localhost:8080/"
        }
      },
      "outputs": [
        {
          "output_type": "execute_result",
          "data": {
            "text/plain": [
              "array([[0.13406837, 0.2802685 , 0.50901297],\n",
              "       [0.35451025, 0.13500455, 0.85748033]])"
            ]
          },
          "metadata": {},
          "execution_count": 175
        }
      ],
      "source": [
        "a_loaded = np.loadtxt(\"my_array.csv\", delimiter=\",\")\n",
        "a_loaded"
      ]
    },
    {
      "cell_type": "markdown",
      "metadata": {
        "id": "BmHsFhRe09vu"
      },
      "source": [
        "## Zipped `.npz` format\n",
        "It is also possible to save multiple arrays in one zipped file:"
      ]
    },
    {
      "cell_type": "code",
      "execution_count": 176,
      "metadata": {
        "id": "dCEBTMkH09vv",
        "outputId": "27c07476-d358-42c9-c546-ab5eb2e6de03",
        "colab": {
          "base_uri": "https://localhost:8080/"
        }
      },
      "outputs": [
        {
          "output_type": "execute_result",
          "data": {
            "text/plain": [
              "array([[[ 0,  1,  2,  3],\n",
              "        [ 4,  5,  6,  7],\n",
              "        [ 8,  9, 10, 11]],\n",
              "\n",
              "       [[12, 13, 14, 15],\n",
              "        [16, 17, 18, 19],\n",
              "        [20, 21, 22, 23]]], dtype=uint8)"
            ]
          },
          "metadata": {},
          "execution_count": 176
        }
      ],
      "source": [
        "b = np.arange(24, dtype=np.uint8).reshape(2, 3, 4)\n",
        "b"
      ]
    },
    {
      "cell_type": "code",
      "execution_count": 177,
      "metadata": {
        "id": "YeAbqT3Z09vw"
      },
      "outputs": [],
      "source": [
        "np.savez(\"my_arrays\", my_a=a, my_b=b)"
      ]
    },
    {
      "cell_type": "markdown",
      "metadata": {
        "id": "KERwa3Hy09vx"
      },
      "source": [
        "Again, let's take a peek at the file content. Note that the `.npz` file extension was automatically added."
      ]
    },
    {
      "cell_type": "code",
      "execution_count": 178,
      "metadata": {
        "id": "zaHAoUYP09vy",
        "outputId": "b618d2f4-62a7-41d7-8929-83a3222d2988",
        "colab": {
          "base_uri": "https://localhost:8080/",
          "height": 53
        }
      },
      "outputs": [
        {
          "output_type": "execute_result",
          "data": {
            "text/plain": [
              "'b\"PK\\\\x03\\\\x04\\\\x14\\\\x00\\\\x00\\\\x00\\\\x00\\\\x00\\\\x00\\\\x00!\\\\x00\\\\x1f\\\\xcb\\\\xf8l\\\\xb0\\\\x00\\\\x00\\\\x00\\\\xb0\\\\x00\\\\x00\\\\x00\\\\x08\\\\x00\\\\x14\\\\x00my_a.npy\\\\x01\\\\x00\\\\x10\\\\x00\\\\xb0\\\\x00\\\\x00\\\\x00\\\\x00\\\\x00\\\\x00\\\\x00\\\\xb0\\\\x00\\\\x00\\\\x[...]'"
            ],
            "application/vnd.google.colaboratory.intrinsic+json": {
              "type": "string"
            }
          },
          "metadata": {},
          "execution_count": 178
        }
      ],
      "source": [
        "with open(\"my_arrays.npz\", \"rb\") as f:\n",
        "    content = f.read()\n",
        "\n",
        "repr(content)[:180] + \"[...]\""
      ]
    },
    {
      "cell_type": "markdown",
      "metadata": {
        "id": "P4YJqkJu09v1"
      },
      "source": [
        "You then load this file like so:"
      ]
    },
    {
      "cell_type": "code",
      "execution_count": 179,
      "metadata": {
        "id": "7zAp-QgW09v1",
        "outputId": "407c1d6d-7a8e-446c-f7f9-32d54f742ee8",
        "colab": {
          "base_uri": "https://localhost:8080/"
        }
      },
      "outputs": [
        {
          "output_type": "execute_result",
          "data": {
            "text/plain": [
              "<numpy.lib.npyio.NpzFile at 0x7fe213e21bd0>"
            ]
          },
          "metadata": {},
          "execution_count": 179
        }
      ],
      "source": [
        "my_arrays = np.load(\"my_arrays.npz\")\n",
        "my_arrays"
      ]
    },
    {
      "cell_type": "markdown",
      "metadata": {
        "id": "28GXlYLR09v3"
      },
      "source": [
        "This is a dict-like object which loads the arrays lazily:"
      ]
    },
    {
      "cell_type": "code",
      "execution_count": 180,
      "metadata": {
        "id": "eDHj1ET109v4",
        "outputId": "3a664898-a907-4c26-d1e8-af1ce380ab82",
        "colab": {
          "base_uri": "https://localhost:8080/"
        }
      },
      "outputs": [
        {
          "output_type": "execute_result",
          "data": {
            "text/plain": [
              "KeysView(<numpy.lib.npyio.NpzFile object at 0x7fe213e21bd0>)"
            ]
          },
          "metadata": {},
          "execution_count": 180
        }
      ],
      "source": [
        "my_arrays.keys()"
      ]
    },
    {
      "cell_type": "code",
      "execution_count": 181,
      "metadata": {
        "id": "biY7nMHu09v5",
        "outputId": "133d7af7-c4db-474d-88dc-65a1ae0369f8",
        "colab": {
          "base_uri": "https://localhost:8080/"
        }
      },
      "outputs": [
        {
          "output_type": "execute_result",
          "data": {
            "text/plain": [
              "array([[0.13406837, 0.2802685 , 0.50901297],\n",
              "       [0.35451025, 0.13500455, 0.85748033]])"
            ]
          },
          "metadata": {},
          "execution_count": 181
        }
      ],
      "source": [
        "my_arrays[\"my_a\"]"
      ]
    },
    {
      "cell_type": "markdown",
      "metadata": {
        "id": "COAuNeZw09v6"
      },
      "source": [
        "# What next?\n",
        "Now you know all the fundamentals of NumPy, but there are many more options available. The best way to learn more is to experiment with NumPy, and go through the excellent [reference documentation](http://docs.scipy.org/doc/numpy/reference/index.html) to find more functions and features you may be interested in."
      ]
    }
  ],
  "metadata": {
    "kernelspec": {
      "display_name": "Python 3",
      "language": "python",
      "name": "python3"
    },
    "language_info": {
      "codemirror_mode": {
        "name": "ipython",
        "version": 3
      },
      "file_extension": ".py",
      "mimetype": "text/x-python",
      "name": "python",
      "nbconvert_exporter": "python",
      "pygments_lexer": "ipython3",
      "version": "3.8.12"
    },
    "toc": {
      "toc_cell": false,
      "toc_number_sections": true,
      "toc_section_display": "block",
      "toc_threshold": 6,
      "toc_window_display": false
    },
    "toc_position": {
      "height": "677px",
      "left": "1195.02px",
      "right": "20px",
      "top": "78px",
      "width": "238px"
    },
    "colab": {
      "name": "tools_numpy.ipynb",
      "provenance": [],
      "include_colab_link": true
    }
  },
  "nbformat": 4,
  "nbformat_minor": 0
}
